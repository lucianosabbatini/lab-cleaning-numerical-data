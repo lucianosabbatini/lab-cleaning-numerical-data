{
 "cells": [
  {
   "cell_type": "code",
   "execution_count": 1,
   "metadata": {
    "executionInfo": {
     "elapsed": 660,
     "status": "ok",
     "timestamp": 1618167284173,
     "user": {
      "displayName": "David Henriques",
      "photoUrl": "",
      "userId": "14332050621134291491"
     },
     "user_tz": -60
    },
    "id": "d7urVi5npPAY"
   },
   "outputs": [],
   "source": [
    "import pandas as pd\n",
    "import seaborn as sns\n",
    "import matplotlib.pyplot as plt\n",
    "import numpy as np"
   ]
  },
  {
   "cell_type": "code",
   "execution_count": 3,
   "metadata": {
    "colab": {
     "base_uri": "https://localhost:8080/",
     "height": 241
    },
    "executionInfo": {
     "elapsed": 696,
     "status": "ok",
     "timestamp": 1618167284761,
     "user": {
      "displayName": "David Henriques",
      "photoUrl": "",
      "userId": "14332050621134291491"
     },
     "user_tz": -60
    },
    "id": "tNWX1dHXpPAa",
    "outputId": "4753f780-25d8-424d-c0f4-4ed73c6dd4ba",
    "scrolled": true
   },
   "outputs": [
    {
     "data": {
      "text/plain": [
       "(90569, 28)"
      ]
     },
     "metadata": {},
     "output_type": "display_data"
    },
    {
     "data": {
      "text/html": [
       "<div>\n",
       "<style scoped>\n",
       "    .dataframe tbody tr th:only-of-type {\n",
       "        vertical-align: middle;\n",
       "    }\n",
       "\n",
       "    .dataframe tbody tr th {\n",
       "        vertical-align: top;\n",
       "    }\n",
       "\n",
       "    .dataframe thead th {\n",
       "        text-align: right;\n",
       "    }\n",
       "</style>\n",
       "<table border=\"1\" class=\"dataframe\">\n",
       "  <thead>\n",
       "    <tr style=\"text-align: right;\">\n",
       "      <th></th>\n",
       "      <th>STATE</th>\n",
       "      <th>PVASTATE</th>\n",
       "      <th>DOB</th>\n",
       "      <th>MDMAUD</th>\n",
       "      <th>RECP3</th>\n",
       "      <th>GENDER</th>\n",
       "      <th>DOMAIN</th>\n",
       "      <th>INCOME</th>\n",
       "      <th>HOMEOWNR</th>\n",
       "      <th>HV1</th>\n",
       "      <th>HV2</th>\n",
       "      <th>HV3</th>\n",
       "      <th>HV4</th>\n",
       "      <th>IC1</th>\n",
       "      <th>IC2</th>\n",
       "      <th>IC3</th>\n",
       "      <th>IC4</th>\n",
       "      <th>IC5</th>\n",
       "      <th>VETERANS</th>\n",
       "      <th>NUMPROM</th>\n",
       "      <th>CARDPROM</th>\n",
       "      <th>CARDPM12</th>\n",
       "      <th>NUMPRM12</th>\n",
       "      <th>MAXADATE</th>\n",
       "      <th>RFA_2</th>\n",
       "      <th>NGIFTALL</th>\n",
       "      <th>TIMELAG</th>\n",
       "      <th>AVGGIFT</th>\n",
       "    </tr>\n",
       "  </thead>\n",
       "  <tbody>\n",
       "    <tr>\n",
       "      <th>0</th>\n",
       "      <td>IL</td>\n",
       "      <td>NaN</td>\n",
       "      <td>3712</td>\n",
       "      <td>XXXX</td>\n",
       "      <td>NaN</td>\n",
       "      <td>F</td>\n",
       "      <td>T2</td>\n",
       "      <td>NaN</td>\n",
       "      <td>NaN</td>\n",
       "      <td>479</td>\n",
       "      <td>635</td>\n",
       "      <td>3</td>\n",
       "      <td>2</td>\n",
       "      <td>307</td>\n",
       "      <td>318</td>\n",
       "      <td>349</td>\n",
       "      <td>378</td>\n",
       "      <td>12883</td>\n",
       "      <td>NaN</td>\n",
       "      <td>74</td>\n",
       "      <td>27</td>\n",
       "      <td>6</td>\n",
       "      <td>14</td>\n",
       "      <td>9702</td>\n",
       "      <td>L4E</td>\n",
       "      <td>31</td>\n",
       "      <td>4.0</td>\n",
       "      <td>7.741935</td>\n",
       "    </tr>\n",
       "    <tr>\n",
       "      <th>1</th>\n",
       "      <td>CA</td>\n",
       "      <td>NaN</td>\n",
       "      <td>5202</td>\n",
       "      <td>XXXX</td>\n",
       "      <td>NaN</td>\n",
       "      <td>M</td>\n",
       "      <td>S1</td>\n",
       "      <td>6.0</td>\n",
       "      <td>H</td>\n",
       "      <td>5468</td>\n",
       "      <td>5218</td>\n",
       "      <td>12</td>\n",
       "      <td>10</td>\n",
       "      <td>1088</td>\n",
       "      <td>1096</td>\n",
       "      <td>1026</td>\n",
       "      <td>1037</td>\n",
       "      <td>36175</td>\n",
       "      <td>NaN</td>\n",
       "      <td>32</td>\n",
       "      <td>12</td>\n",
       "      <td>6</td>\n",
       "      <td>13</td>\n",
       "      <td>9702</td>\n",
       "      <td>L2G</td>\n",
       "      <td>3</td>\n",
       "      <td>18.0</td>\n",
       "      <td>15.666667</td>\n",
       "    </tr>\n",
       "    <tr>\n",
       "      <th>2</th>\n",
       "      <td>NC</td>\n",
       "      <td>NaN</td>\n",
       "      <td>0</td>\n",
       "      <td>XXXX</td>\n",
       "      <td>NaN</td>\n",
       "      <td>M</td>\n",
       "      <td>R2</td>\n",
       "      <td>3.0</td>\n",
       "      <td>U</td>\n",
       "      <td>497</td>\n",
       "      <td>546</td>\n",
       "      <td>2</td>\n",
       "      <td>1</td>\n",
       "      <td>251</td>\n",
       "      <td>292</td>\n",
       "      <td>292</td>\n",
       "      <td>340</td>\n",
       "      <td>11576</td>\n",
       "      <td>NaN</td>\n",
       "      <td>63</td>\n",
       "      <td>26</td>\n",
       "      <td>6</td>\n",
       "      <td>14</td>\n",
       "      <td>9702</td>\n",
       "      <td>L4E</td>\n",
       "      <td>27</td>\n",
       "      <td>12.0</td>\n",
       "      <td>7.481481</td>\n",
       "    </tr>\n",
       "    <tr>\n",
       "      <th>3</th>\n",
       "      <td>CA</td>\n",
       "      <td>NaN</td>\n",
       "      <td>2801</td>\n",
       "      <td>XXXX</td>\n",
       "      <td>NaN</td>\n",
       "      <td>F</td>\n",
       "      <td>R2</td>\n",
       "      <td>1.0</td>\n",
       "      <td>U</td>\n",
       "      <td>1000</td>\n",
       "      <td>1263</td>\n",
       "      <td>2</td>\n",
       "      <td>1</td>\n",
       "      <td>386</td>\n",
       "      <td>388</td>\n",
       "      <td>396</td>\n",
       "      <td>423</td>\n",
       "      <td>15130</td>\n",
       "      <td>NaN</td>\n",
       "      <td>66</td>\n",
       "      <td>27</td>\n",
       "      <td>6</td>\n",
       "      <td>14</td>\n",
       "      <td>9702</td>\n",
       "      <td>L4E</td>\n",
       "      <td>16</td>\n",
       "      <td>9.0</td>\n",
       "      <td>6.812500</td>\n",
       "    </tr>\n",
       "    <tr>\n",
       "      <th>4</th>\n",
       "      <td>FL</td>\n",
       "      <td>NaN</td>\n",
       "      <td>2001</td>\n",
       "      <td>XXXX</td>\n",
       "      <td>X</td>\n",
       "      <td>F</td>\n",
       "      <td>S2</td>\n",
       "      <td>3.0</td>\n",
       "      <td>H</td>\n",
       "      <td>576</td>\n",
       "      <td>594</td>\n",
       "      <td>4</td>\n",
       "      <td>3</td>\n",
       "      <td>240</td>\n",
       "      <td>250</td>\n",
       "      <td>293</td>\n",
       "      <td>321</td>\n",
       "      <td>9836</td>\n",
       "      <td>NaN</td>\n",
       "      <td>113</td>\n",
       "      <td>43</td>\n",
       "      <td>10</td>\n",
       "      <td>25</td>\n",
       "      <td>9702</td>\n",
       "      <td>L2F</td>\n",
       "      <td>37</td>\n",
       "      <td>14.0</td>\n",
       "      <td>6.864865</td>\n",
       "    </tr>\n",
       "  </tbody>\n",
       "</table>\n",
       "</div>"
      ],
      "text/plain": [
       "  STATE PVASTATE   DOB MDMAUD RECP3 GENDER DOMAIN  INCOME HOMEOWNR   HV1  \\\n",
       "0    IL      NaN  3712   XXXX   NaN      F     T2     NaN      NaN   479   \n",
       "1    CA      NaN  5202   XXXX   NaN      M     S1     6.0        H  5468   \n",
       "2    NC      NaN     0   XXXX   NaN      M     R2     3.0        U   497   \n",
       "3    CA      NaN  2801   XXXX   NaN      F     R2     1.0        U  1000   \n",
       "4    FL      NaN  2001   XXXX     X      F     S2     3.0        H   576   \n",
       "\n",
       "    HV2  HV3  HV4   IC1   IC2   IC3   IC4    IC5 VETERANS  NUMPROM  CARDPROM  \\\n",
       "0   635    3    2   307   318   349   378  12883      NaN       74        27   \n",
       "1  5218   12   10  1088  1096  1026  1037  36175      NaN       32        12   \n",
       "2   546    2    1   251   292   292   340  11576      NaN       63        26   \n",
       "3  1263    2    1   386   388   396   423  15130      NaN       66        27   \n",
       "4   594    4    3   240   250   293   321   9836      NaN      113        43   \n",
       "\n",
       "   CARDPM12  NUMPRM12  MAXADATE RFA_2  NGIFTALL  TIMELAG    AVGGIFT  \n",
       "0         6        14      9702   L4E        31      4.0   7.741935  \n",
       "1         6        13      9702   L2G         3     18.0  15.666667  \n",
       "2         6        14      9702   L4E        27     12.0   7.481481  \n",
       "3         6        14      9702   L4E        16      9.0   6.812500  \n",
       "4        10        25      9702   L2F        37     14.0   6.864865  "
      ]
     },
     "execution_count": 3,
     "metadata": {},
     "output_type": "execute_result"
    }
   ],
   "source": [
    "data = pd.read_csv('HC4A_unit4.csv')\n",
    "pd.set_option('display.max_columns', None)\n",
    "display(data.shape)\n",
    "data.head()"
   ]
  },
  {
   "cell_type": "code",
   "execution_count": 68,
   "metadata": {
    "scrolled": true
   },
   "outputs": [
    {
     "data": {
      "text/plain": [
       "STATE           0\n",
       "PVASTATE    89184\n",
       "DOB             0\n",
       "MDMAUD          0\n",
       "RECP3       88736\n",
       "GENDER       2795\n",
       "DOMAIN       2176\n",
       "INCOME      20183\n",
       "HOMEOWNR    21051\n",
       "HV1             0\n",
       "HV2             0\n",
       "HV3             0\n",
       "HV4             0\n",
       "IC1             0\n",
       "IC2             0\n",
       "IC3             0\n",
       "IC4             0\n",
       "IC5             0\n",
       "VETERANS    80723\n",
       "NUMPROM         0\n",
       "CARDPROM        0\n",
       "CARDPM12        0\n",
       "NUMPRM12        0\n",
       "MAXADATE        0\n",
       "RFA_2           0\n",
       "NGIFTALL        0\n",
       "TIMELAG      9653\n",
       "AVGGIFT         0\n",
       "dtype: int64"
      ]
     },
     "execution_count": 68,
     "metadata": {},
     "output_type": "execute_result"
    }
   ],
   "source": [
    "data.isna().sum()"
   ]
  },
  {
   "cell_type": "code",
   "execution_count": 69,
   "metadata": {},
   "outputs": [
    {
     "data": {
      "text/plain": [
       "STATE           0\n",
       "PVASTATE    89184\n",
       "DOB             0\n",
       "MDMAUD          0\n",
       "RECP3       88736\n",
       "GENDER       2795\n",
       "DOMAIN       2176\n",
       "INCOME      20183\n",
       "HOMEOWNR    21051\n",
       "HV1             0\n",
       "HV2             0\n",
       "HV3             0\n",
       "HV4             0\n",
       "IC1             0\n",
       "IC2             0\n",
       "IC3             0\n",
       "IC4             0\n",
       "IC5             0\n",
       "VETERANS    80723\n",
       "NUMPROM         0\n",
       "CARDPROM        0\n",
       "CARDPM12        0\n",
       "NUMPRM12        0\n",
       "MAXADATE        0\n",
       "RFA_2           0\n",
       "NGIFTALL        0\n",
       "TIMELAG      9653\n",
       "AVGGIFT         0\n",
       "dtype: int64"
      ]
     },
     "execution_count": 69,
     "metadata": {},
     "output_type": "execute_result"
    }
   ],
   "source": [
    "data.isnull().sum()"
   ]
  },
  {
   "cell_type": "code",
   "execution_count": null,
   "metadata": {},
   "outputs": [],
   "source": []
  },
  {
   "cell_type": "code",
   "execution_count": 3,
   "metadata": {
    "colab": {
     "base_uri": "https://localhost:8080/"
    },
    "executionInfo": {
     "elapsed": 556,
     "status": "ok",
     "timestamp": 1618167288915,
     "user": {
      "displayName": "David Henriques",
      "photoUrl": "",
      "userId": "14332050621134291491"
     },
     "user_tz": -60
    },
    "id": "quB1CWpQpPAb",
    "outputId": "94cdaf99-44a0-442e-d43d-818a5f1dbeb9"
   },
   "outputs": [
    {
     "data": {
      "text/plain": [
       "STATE       0.000000\n",
       "PVASTATE    0.984708\n",
       "DOB         0.000000\n",
       "MDMAUD      0.000000\n",
       "RECP3       0.979761\n",
       "GENDER      0.030860\n",
       "DOMAIN      0.024026\n",
       "INCOME      0.222847\n",
       "HOMEOWNR    0.232431\n",
       "HV1         0.000000\n",
       "HV2         0.000000\n",
       "HV3         0.000000\n",
       "HV4         0.000000\n",
       "IC1         0.000000\n",
       "IC2         0.000000\n",
       "IC3         0.000000\n",
       "IC4         0.000000\n",
       "IC5         0.000000\n",
       "VETERANS    0.891287\n",
       "NUMPROM     0.000000\n",
       "CARDPROM    0.000000\n",
       "CARDPM12    0.000000\n",
       "NUMPRM12    0.000000\n",
       "MAXADATE    0.000000\n",
       "RFA_2       0.000000\n",
       "NGIFTALL    0.000000\n",
       "TIMELAG     0.106582\n",
       "AVGGIFT     0.000000\n",
       "dtype: float64"
      ]
     },
     "execution_count": 3,
     "metadata": {},
     "output_type": "execute_result"
    }
   ],
   "source": [
    "data.isnull().sum()/len(data)   # so we get the percentage of nulls"
   ]
  },
  {
   "cell_type": "code",
   "execution_count": null,
   "metadata": {},
   "outputs": [],
   "source": []
  },
  {
   "cell_type": "code",
   "execution_count": null,
   "metadata": {
    "executionInfo": {
     "elapsed": 782,
     "status": "ok",
     "timestamp": 1618167292718,
     "user": {
      "displayName": "David Henriques",
      "photoUrl": "",
      "userId": "14332050621134291491"
     },
     "user_tz": -60
    },
    "id": "xyOV6giF6s2W"
   },
   "outputs": [],
   "source": []
  },
  {
   "cell_type": "code",
   "execution_count": 4,
   "metadata": {
    "executionInfo": {
     "elapsed": 531,
     "status": "ok",
     "timestamp": 1618167295395,
     "user": {
      "displayName": "David Henriques",
      "photoUrl": "",
      "userId": "14332050621134291491"
     },
     "user_tz": -60
    },
    "id": "mxzFOud19-1X"
   },
   "outputs": [],
   "source": [
    "### Numericals"
   ]
  },
  {
   "cell_type": "code",
   "execution_count": 4,
   "metadata": {
    "colab": {
     "base_uri": "https://localhost:8080/",
     "height": 204
    },
    "executionInfo": {
     "elapsed": 744,
     "status": "ok",
     "timestamp": 1618167296187,
     "user": {
      "displayName": "David Henriques",
      "photoUrl": "",
      "userId": "14332050621134291491"
     },
     "user_tz": -60
    },
    "id": "_o2Tl3vB-AMX",
    "outputId": "d76a68e7-7d84-4e55-f593-6ed5af958dc1"
   },
   "outputs": [
    {
     "data": {
      "text/html": [
       "<div>\n",
       "<style scoped>\n",
       "    .dataframe tbody tr th:only-of-type {\n",
       "        vertical-align: middle;\n",
       "    }\n",
       "\n",
       "    .dataframe tbody tr th {\n",
       "        vertical-align: top;\n",
       "    }\n",
       "\n",
       "    .dataframe thead th {\n",
       "        text-align: right;\n",
       "    }\n",
       "</style>\n",
       "<table border=\"1\" class=\"dataframe\">\n",
       "  <thead>\n",
       "    <tr style=\"text-align: right;\">\n",
       "      <th></th>\n",
       "      <th>DOB</th>\n",
       "      <th>INCOME</th>\n",
       "      <th>HV1</th>\n",
       "      <th>HV2</th>\n",
       "      <th>HV3</th>\n",
       "      <th>HV4</th>\n",
       "      <th>IC1</th>\n",
       "      <th>IC2</th>\n",
       "      <th>IC3</th>\n",
       "      <th>IC4</th>\n",
       "      <th>IC5</th>\n",
       "      <th>NUMPROM</th>\n",
       "      <th>CARDPROM</th>\n",
       "      <th>CARDPM12</th>\n",
       "      <th>NUMPRM12</th>\n",
       "      <th>MAXADATE</th>\n",
       "      <th>NGIFTALL</th>\n",
       "      <th>TIMELAG</th>\n",
       "      <th>AVGGIFT</th>\n",
       "    </tr>\n",
       "  </thead>\n",
       "  <tbody>\n",
       "    <tr>\n",
       "      <th>0</th>\n",
       "      <td>3712</td>\n",
       "      <td>NaN</td>\n",
       "      <td>479</td>\n",
       "      <td>635</td>\n",
       "      <td>3</td>\n",
       "      <td>2</td>\n",
       "      <td>307</td>\n",
       "      <td>318</td>\n",
       "      <td>349</td>\n",
       "      <td>378</td>\n",
       "      <td>12883</td>\n",
       "      <td>74</td>\n",
       "      <td>27</td>\n",
       "      <td>6</td>\n",
       "      <td>14</td>\n",
       "      <td>9702</td>\n",
       "      <td>31</td>\n",
       "      <td>4.0</td>\n",
       "      <td>7.741935</td>\n",
       "    </tr>\n",
       "    <tr>\n",
       "      <th>1</th>\n",
       "      <td>5202</td>\n",
       "      <td>6.0</td>\n",
       "      <td>5468</td>\n",
       "      <td>5218</td>\n",
       "      <td>12</td>\n",
       "      <td>10</td>\n",
       "      <td>1088</td>\n",
       "      <td>1096</td>\n",
       "      <td>1026</td>\n",
       "      <td>1037</td>\n",
       "      <td>36175</td>\n",
       "      <td>32</td>\n",
       "      <td>12</td>\n",
       "      <td>6</td>\n",
       "      <td>13</td>\n",
       "      <td>9702</td>\n",
       "      <td>3</td>\n",
       "      <td>18.0</td>\n",
       "      <td>15.666667</td>\n",
       "    </tr>\n",
       "    <tr>\n",
       "      <th>2</th>\n",
       "      <td>0</td>\n",
       "      <td>3.0</td>\n",
       "      <td>497</td>\n",
       "      <td>546</td>\n",
       "      <td>2</td>\n",
       "      <td>1</td>\n",
       "      <td>251</td>\n",
       "      <td>292</td>\n",
       "      <td>292</td>\n",
       "      <td>340</td>\n",
       "      <td>11576</td>\n",
       "      <td>63</td>\n",
       "      <td>26</td>\n",
       "      <td>6</td>\n",
       "      <td>14</td>\n",
       "      <td>9702</td>\n",
       "      <td>27</td>\n",
       "      <td>12.0</td>\n",
       "      <td>7.481481</td>\n",
       "    </tr>\n",
       "    <tr>\n",
       "      <th>3</th>\n",
       "      <td>2801</td>\n",
       "      <td>1.0</td>\n",
       "      <td>1000</td>\n",
       "      <td>1263</td>\n",
       "      <td>2</td>\n",
       "      <td>1</td>\n",
       "      <td>386</td>\n",
       "      <td>388</td>\n",
       "      <td>396</td>\n",
       "      <td>423</td>\n",
       "      <td>15130</td>\n",
       "      <td>66</td>\n",
       "      <td>27</td>\n",
       "      <td>6</td>\n",
       "      <td>14</td>\n",
       "      <td>9702</td>\n",
       "      <td>16</td>\n",
       "      <td>9.0</td>\n",
       "      <td>6.812500</td>\n",
       "    </tr>\n",
       "    <tr>\n",
       "      <th>4</th>\n",
       "      <td>2001</td>\n",
       "      <td>3.0</td>\n",
       "      <td>576</td>\n",
       "      <td>594</td>\n",
       "      <td>4</td>\n",
       "      <td>3</td>\n",
       "      <td>240</td>\n",
       "      <td>250</td>\n",
       "      <td>293</td>\n",
       "      <td>321</td>\n",
       "      <td>9836</td>\n",
       "      <td>113</td>\n",
       "      <td>43</td>\n",
       "      <td>10</td>\n",
       "      <td>25</td>\n",
       "      <td>9702</td>\n",
       "      <td>37</td>\n",
       "      <td>14.0</td>\n",
       "      <td>6.864865</td>\n",
       "    </tr>\n",
       "  </tbody>\n",
       "</table>\n",
       "</div>"
      ],
      "text/plain": [
       "    DOB  INCOME   HV1   HV2  HV3  HV4   IC1   IC2   IC3   IC4    IC5  NUMPROM  \\\n",
       "0  3712     NaN   479   635    3    2   307   318   349   378  12883       74   \n",
       "1  5202     6.0  5468  5218   12   10  1088  1096  1026  1037  36175       32   \n",
       "2     0     3.0   497   546    2    1   251   292   292   340  11576       63   \n",
       "3  2801     1.0  1000  1263    2    1   386   388   396   423  15130       66   \n",
       "4  2001     3.0   576   594    4    3   240   250   293   321   9836      113   \n",
       "\n",
       "   CARDPROM  CARDPM12  NUMPRM12  MAXADATE  NGIFTALL  TIMELAG    AVGGIFT  \n",
       "0        27         6        14      9702        31      4.0   7.741935  \n",
       "1        12         6        13      9702         3     18.0  15.666667  \n",
       "2        26         6        14      9702        27     12.0   7.481481  \n",
       "3        27         6        14      9702        16      9.0   6.812500  \n",
       "4        43        10        25      9702        37     14.0   6.864865  "
      ]
     },
     "execution_count": 4,
     "metadata": {},
     "output_type": "execute_result"
    }
   ],
   "source": [
    "numericals = data.select_dtypes(np.number)\n",
    "numericals.head()"
   ]
  },
  {
   "cell_type": "code",
   "execution_count": 5,
   "metadata": {
    "colab": {
     "base_uri": "https://localhost:8080/"
    },
    "executionInfo": {
     "elapsed": 761,
     "status": "ok",
     "timestamp": 1618167296895,
     "user": {
      "displayName": "David Henriques",
      "photoUrl": "",
      "userId": "14332050621134291491"
     },
     "user_tz": -60
    },
    "id": "NqLzYocG9CD_",
    "outputId": "e510eaa5-8312-43ef-be67-cdc48201cf2d"
   },
   "outputs": [
    {
     "data": {
      "text/plain": [
       "DOB         0.000000\n",
       "INCOME      0.222847\n",
       "HV1         0.000000\n",
       "HV2         0.000000\n",
       "HV3         0.000000\n",
       "HV4         0.000000\n",
       "IC1         0.000000\n",
       "IC2         0.000000\n",
       "IC3         0.000000\n",
       "IC4         0.000000\n",
       "IC5         0.000000\n",
       "NUMPROM     0.000000\n",
       "CARDPROM    0.000000\n",
       "CARDPM12    0.000000\n",
       "NUMPRM12    0.000000\n",
       "MAXADATE    0.000000\n",
       "NGIFTALL    0.000000\n",
       "TIMELAG     0.106582\n",
       "AVGGIFT     0.000000\n",
       "dtype: float64"
      ]
     },
     "execution_count": 5,
     "metadata": {},
     "output_type": "execute_result"
    }
   ],
   "source": [
    "numericals.isnull().sum()/len(numericals)"
   ]
  },
  {
   "cell_type": "code",
   "execution_count": 7,
   "metadata": {
    "executionInfo": {
     "elapsed": 662,
     "status": "ok",
     "timestamp": 1618167297886,
     "user": {
      "displayName": "David Henriques",
      "photoUrl": "",
      "userId": "14332050621134291491"
     },
     "user_tz": -60
    },
    "id": "bcuctUEZpPAd"
   },
   "outputs": [],
   "source": [
    "#### The important income column"
   ]
  },
  {
   "cell_type": "code",
   "execution_count": 6,
   "metadata": {},
   "outputs": [
    {
     "data": {
      "text/plain": [
       "NaN    20183\n",
       "5.0    14639\n",
       "2.0    12482\n",
       "4.0    12092\n",
       "1.0     8646\n",
       "3.0     8135\n",
       "6.0     7347\n",
       "7.0     7045\n",
       "Name: INCOME, dtype: int64"
      ]
     },
     "execution_count": 6,
     "metadata": {},
     "output_type": "execute_result"
    }
   ],
   "source": [
    "numericals['INCOME'].value_counts(dropna=False)"
   ]
  },
  {
   "cell_type": "code",
   "execution_count": 9,
   "metadata": {
    "colab": {
     "base_uri": "https://localhost:8080/",
     "height": 282
    },
    "executionInfo": {
     "elapsed": 840,
     "status": "ok",
     "timestamp": 1618167300106,
     "user": {
      "displayName": "David Henriques",
      "photoUrl": "",
      "userId": "14332050621134291491"
     },
     "user_tz": -60
    },
    "id": "1KPORqmZ-IGn",
    "outputId": "27b80962-4a45-4618-fcec-4facdae64d80"
   },
   "outputs": [
    {
     "data": {
      "text/plain": [
       "<AxesSubplot:>"
      ]
     },
     "execution_count": 9,
     "metadata": {},
     "output_type": "execute_result"
    },
    {
     "data": {
      "image/png": "[encoded data removed]",
      "text/plain": [
       "<Figure size 640x480 with 1 Axes>"
      ]
     },
     "metadata": {},
     "output_type": "display_data"
    }
   ],
   "source": [
    "numericals['INCOME'].hist(bins=7)"
   ]
  },
  {
   "cell_type": "code",
   "execution_count": 10,
   "metadata": {},
   "outputs": [
    {
     "data": {
      "text/plain": [
       "3.8782570397522234"
      ]
     },
     "execution_count": 10,
     "metadata": {},
     "output_type": "execute_result"
    }
   ],
   "source": [
    "numericals['INCOME'].mean()"
   ]
  },
  {
   "cell_type": "code",
   "execution_count": 11,
   "metadata": {
    "colab": {
     "base_uri": "https://localhost:8080/",
     "height": 282
    },
    "executionInfo": {
     "elapsed": 730,
     "status": "ok",
     "timestamp": 1618167301227,
     "user": {
      "displayName": "David Henriques",
      "photoUrl": "",
      "userId": "14332050621134291491"
     },
     "user_tz": -60
    },
    "id": "nV3LfgyHCd7U",
    "outputId": "9bf71056-8a77-44db-eda4-c98d30a6609b"
   },
   "outputs": [
    {
     "data": {
      "text/plain": [
       "<AxesSubplot:>"
      ]
     },
     "execution_count": 11,
     "metadata": {},
     "output_type": "execute_result"
    },
    {
     "data": {
      "image/png": "[encoded data removed]",
      "text/plain": [
       "<Figure size 640x480 with 1 Axes>"
      ]
     },
     "metadata": {},
     "output_type": "display_data"
    }
   ],
   "source": [
    "numericals['INCOME'].fillna(data['INCOME'].mean()).hist(bins=7)"
   ]
  },
  {
   "cell_type": "code",
   "execution_count": 12,
   "metadata": {
    "colab": {
     "base_uri": "https://localhost:8080/"
    },
    "executionInfo": {
     "elapsed": 888,
     "status": "ok",
     "timestamp": 1618167301738,
     "user": {
      "displayName": "David Henriques",
      "photoUrl": "",
      "userId": "14332050621134291491"
     },
     "user_tz": -60
    },
    "id": "11k0kVmnCv6q",
    "outputId": "676734e9-31db-49a5-8913-0b4046c5919e"
   },
   "outputs": [
    {
     "data": {
      "text/plain": [
       "3.8782570397529996"
      ]
     },
     "execution_count": 12,
     "metadata": {},
     "output_type": "execute_result"
    }
   ],
   "source": [
    "numericals['INCOME'].fillna(data['INCOME'].mean()).mean()"
   ]
  },
  {
   "cell_type": "code",
   "execution_count": 13,
   "metadata": {},
   "outputs": [
    {
     "data": {
      "text/plain": [
       "(90569, 19)"
      ]
     },
     "execution_count": 13,
     "metadata": {},
     "output_type": "execute_result"
    }
   ],
   "source": [
    "numericals.shape"
   ]
  },
  {
   "cell_type": "code",
   "execution_count": 14,
   "metadata": {
    "executionInfo": {
     "elapsed": 887,
     "status": "ok",
     "timestamp": 1618167302065,
     "user": {
      "displayName": "David Henriques",
      "photoUrl": "",
      "userId": "14332050621134291491"
     },
     "user_tz": -60
    },
    "id": "et3H3fkrDJoj"
   },
   "outputs": [],
   "source": [
    "# instead we are going to use all other columns to \"predict\" income so we can fill the NaNs more precisely."
   ]
  },
  {
   "cell_type": "code",
   "execution_count": 7,
   "metadata": {
    "executionInfo": {
     "elapsed": 607,
     "status": "ok",
     "timestamp": 1618167302066,
     "user": {
      "displayName": "David Henriques",
      "photoUrl": "",
      "userId": "14332050621134291491"
     },
     "user_tz": -60
    },
    "id": "oJShqHnAD_cZ"
   },
   "outputs": [
    {
     "data": {
      "text/plain": [
       "(70386, 19)"
      ]
     },
     "execution_count": 7,
     "metadata": {},
     "output_type": "execute_result"
    }
   ],
   "source": [
    "numericals_with_income = numericals[numericals['INCOME'].notna()]  # selecting just the rows with value\n",
    "numericals_with_income.shape"
   ]
  },
  {
   "cell_type": "code",
   "execution_count": 8,
   "metadata": {
    "executionInfo": {
     "elapsed": 699,
     "status": "ok",
     "timestamp": 1618167302458,
     "user": {
      "displayName": "David Henriques",
      "photoUrl": "",
      "userId": "14332050621134291491"
     },
     "user_tz": -60
    },
    "id": "l4vyTBRSC4L8"
   },
   "outputs": [],
   "source": [
    "X_income = numericals_with_income.drop(['INCOME','TIMELAG','AVGGIFT'],axis=1) # gotta drop TIMELAG because is very full of Nulls and AVGGIFT is the ultimate target(y) of the model\n",
    "y_income = numericals_with_income['INCOME']"
   ]
  },
  {
   "cell_type": "code",
   "execution_count": 9,
   "metadata": {},
   "outputs": [
    {
     "data": {
      "text/html": [
       "<div>\n",
       "<style scoped>\n",
       "    .dataframe tbody tr th:only-of-type {\n",
       "        vertical-align: middle;\n",
       "    }\n",
       "\n",
       "    .dataframe tbody tr th {\n",
       "        vertical-align: top;\n",
       "    }\n",
       "\n",
       "    .dataframe thead th {\n",
       "        text-align: right;\n",
       "    }\n",
       "</style>\n",
       "<table border=\"1\" class=\"dataframe\">\n",
       "  <thead>\n",
       "    <tr style=\"text-align: right;\">\n",
       "      <th></th>\n",
       "      <th>DOB</th>\n",
       "      <th>HV1</th>\n",
       "      <th>HV2</th>\n",
       "      <th>HV3</th>\n",
       "      <th>HV4</th>\n",
       "      <th>IC1</th>\n",
       "      <th>IC2</th>\n",
       "      <th>IC3</th>\n",
       "      <th>IC4</th>\n",
       "      <th>IC5</th>\n",
       "      <th>NUMPROM</th>\n",
       "      <th>CARDPROM</th>\n",
       "      <th>CARDPM12</th>\n",
       "      <th>NUMPRM12</th>\n",
       "      <th>MAXADATE</th>\n",
       "      <th>NGIFTALL</th>\n",
       "    </tr>\n",
       "  </thead>\n",
       "  <tbody>\n",
       "    <tr>\n",
       "      <th>1</th>\n",
       "      <td>5202</td>\n",
       "      <td>5468</td>\n",
       "      <td>5218</td>\n",
       "      <td>12</td>\n",
       "      <td>10</td>\n",
       "      <td>1088</td>\n",
       "      <td>1096</td>\n",
       "      <td>1026</td>\n",
       "      <td>1037</td>\n",
       "      <td>36175</td>\n",
       "      <td>32</td>\n",
       "      <td>12</td>\n",
       "      <td>6</td>\n",
       "      <td>13</td>\n",
       "      <td>9702</td>\n",
       "      <td>3</td>\n",
       "    </tr>\n",
       "    <tr>\n",
       "      <th>2</th>\n",
       "      <td>0</td>\n",
       "      <td>497</td>\n",
       "      <td>546</td>\n",
       "      <td>2</td>\n",
       "      <td>1</td>\n",
       "      <td>251</td>\n",
       "      <td>292</td>\n",
       "      <td>292</td>\n",
       "      <td>340</td>\n",
       "      <td>11576</td>\n",
       "      <td>63</td>\n",
       "      <td>26</td>\n",
       "      <td>6</td>\n",
       "      <td>14</td>\n",
       "      <td>9702</td>\n",
       "      <td>27</td>\n",
       "    </tr>\n",
       "    <tr>\n",
       "      <th>3</th>\n",
       "      <td>2801</td>\n",
       "      <td>1000</td>\n",
       "      <td>1263</td>\n",
       "      <td>2</td>\n",
       "      <td>1</td>\n",
       "      <td>386</td>\n",
       "      <td>388</td>\n",
       "      <td>396</td>\n",
       "      <td>423</td>\n",
       "      <td>15130</td>\n",
       "      <td>66</td>\n",
       "      <td>27</td>\n",
       "      <td>6</td>\n",
       "      <td>14</td>\n",
       "      <td>9702</td>\n",
       "      <td>16</td>\n",
       "    </tr>\n",
       "    <tr>\n",
       "      <th>4</th>\n",
       "      <td>2001</td>\n",
       "      <td>576</td>\n",
       "      <td>594</td>\n",
       "      <td>4</td>\n",
       "      <td>3</td>\n",
       "      <td>240</td>\n",
       "      <td>250</td>\n",
       "      <td>293</td>\n",
       "      <td>321</td>\n",
       "      <td>9836</td>\n",
       "      <td>113</td>\n",
       "      <td>43</td>\n",
       "      <td>10</td>\n",
       "      <td>25</td>\n",
       "      <td>9702</td>\n",
       "      <td>37</td>\n",
       "    </tr>\n",
       "    <tr>\n",
       "      <th>6</th>\n",
       "      <td>6001</td>\n",
       "      <td>484</td>\n",
       "      <td>519</td>\n",
       "      <td>3</td>\n",
       "      <td>3</td>\n",
       "      <td>251</td>\n",
       "      <td>284</td>\n",
       "      <td>278</td>\n",
       "      <td>311</td>\n",
       "      <td>10717</td>\n",
       "      <td>63</td>\n",
       "      <td>26</td>\n",
       "      <td>4</td>\n",
       "      <td>9</td>\n",
       "      <td>9702</td>\n",
       "      <td>14</td>\n",
       "    </tr>\n",
       "  </tbody>\n",
       "</table>\n",
       "</div>"
      ],
      "text/plain": [
       "    DOB   HV1   HV2  HV3  HV4   IC1   IC2   IC3   IC4    IC5  NUMPROM  \\\n",
       "1  5202  5468  5218   12   10  1088  1096  1026  1037  36175       32   \n",
       "2     0   497   546    2    1   251   292   292   340  11576       63   \n",
       "3  2801  1000  1263    2    1   386   388   396   423  15130       66   \n",
       "4  2001   576   594    4    3   240   250   293   321   9836      113   \n",
       "6  6001   484   519    3    3   251   284   278   311  10717       63   \n",
       "\n",
       "   CARDPROM  CARDPM12  NUMPRM12  MAXADATE  NGIFTALL  \n",
       "1        12         6        13      9702         3  \n",
       "2        26         6        14      9702        27  \n",
       "3        27         6        14      9702        16  \n",
       "4        43        10        25      9702        37  \n",
       "6        26         4         9      9702        14  "
      ]
     },
     "execution_count": 9,
     "metadata": {},
     "output_type": "execute_result"
    }
   ],
   "source": [
    "X_income.head()"
   ]
  },
  {
   "cell_type": "code",
   "execution_count": 11,
   "metadata": {
    "executionInfo": {
     "elapsed": 719,
     "status": "ok",
     "timestamp": 1618167302807,
     "user": {
      "displayName": "David Henriques",
      "photoUrl": "",
      "userId": "14332050621134291491"
     },
     "user_tz": -60
    },
    "id": "mIFggv2qDv-i"
   },
   "outputs": [],
   "source": [
    "from sklearn.neighbors import KNeighborsClassifier\n",
    "from sklearn.preprocessing import MinMaxScaler"
   ]
  },
  {
   "cell_type": "code",
   "execution_count": 12,
   "metadata": {
    "colab": {
     "base_uri": "https://localhost:8080/",
     "height": 419
    },
    "executionInfo": {
     "elapsed": 706,
     "status": "ok",
     "timestamp": 1618167303128,
     "user": {
      "displayName": "David Henriques",
      "photoUrl": "",
      "userId": "14332050621134291491"
     },
     "user_tz": -60
    },
    "id": "nb7pHJ6SDYte",
    "outputId": "c95347cd-f3ea-46f5-9953-0b8072975315"
   },
   "outputs": [
    {
     "data": {
      "text/html": [
       "<div>\n",
       "<style scoped>\n",
       "    .dataframe tbody tr th:only-of-type {\n",
       "        vertical-align: middle;\n",
       "    }\n",
       "\n",
       "    .dataframe tbody tr th {\n",
       "        vertical-align: top;\n",
       "    }\n",
       "\n",
       "    .dataframe thead th {\n",
       "        text-align: right;\n",
       "    }\n",
       "</style>\n",
       "<table border=\"1\" class=\"dataframe\">\n",
       "  <thead>\n",
       "    <tr style=\"text-align: right;\">\n",
       "      <th></th>\n",
       "      <th>DOB</th>\n",
       "      <th>HV1</th>\n",
       "      <th>HV2</th>\n",
       "      <th>HV3</th>\n",
       "      <th>HV4</th>\n",
       "      <th>IC1</th>\n",
       "      <th>IC2</th>\n",
       "      <th>IC3</th>\n",
       "      <th>IC4</th>\n",
       "      <th>IC5</th>\n",
       "      <th>NUMPROM</th>\n",
       "      <th>CARDPROM</th>\n",
       "      <th>CARDPM12</th>\n",
       "      <th>NUMPRM12</th>\n",
       "      <th>MAXADATE</th>\n",
       "      <th>NGIFTALL</th>\n",
       "    </tr>\n",
       "  </thead>\n",
       "  <tbody>\n",
       "    <tr>\n",
       "      <th>0</th>\n",
       "      <td>0.535736</td>\n",
       "      <td>0.911333</td>\n",
       "      <td>0.869667</td>\n",
       "      <td>0.923077</td>\n",
       "      <td>0.769231</td>\n",
       "      <td>0.725333</td>\n",
       "      <td>0.730667</td>\n",
       "      <td>0.684000</td>\n",
       "      <td>0.691333</td>\n",
       "      <td>0.227079</td>\n",
       "      <td>0.146597</td>\n",
       "      <td>0.183333</td>\n",
       "      <td>0.352941</td>\n",
       "      <td>0.144737</td>\n",
       "      <td>1.0</td>\n",
       "      <td>0.008475</td>\n",
       "    </tr>\n",
       "    <tr>\n",
       "      <th>1</th>\n",
       "      <td>0.000000</td>\n",
       "      <td>0.082833</td>\n",
       "      <td>0.091000</td>\n",
       "      <td>0.153846</td>\n",
       "      <td>0.076923</td>\n",
       "      <td>0.167333</td>\n",
       "      <td>0.194667</td>\n",
       "      <td>0.194667</td>\n",
       "      <td>0.226667</td>\n",
       "      <td>0.072665</td>\n",
       "      <td>0.308901</td>\n",
       "      <td>0.416667</td>\n",
       "      <td>0.352941</td>\n",
       "      <td>0.157895</td>\n",
       "      <td>1.0</td>\n",
       "      <td>0.110169</td>\n",
       "    </tr>\n",
       "    <tr>\n",
       "      <th>2</th>\n",
       "      <td>0.288465</td>\n",
       "      <td>0.166667</td>\n",
       "      <td>0.210500</td>\n",
       "      <td>0.153846</td>\n",
       "      <td>0.076923</td>\n",
       "      <td>0.257333</td>\n",
       "      <td>0.258667</td>\n",
       "      <td>0.264000</td>\n",
       "      <td>0.282000</td>\n",
       "      <td>0.094974</td>\n",
       "      <td>0.324607</td>\n",
       "      <td>0.433333</td>\n",
       "      <td>0.352941</td>\n",
       "      <td>0.157895</td>\n",
       "      <td>1.0</td>\n",
       "      <td>0.063559</td>\n",
       "    </tr>\n",
       "    <tr>\n",
       "      <th>3</th>\n",
       "      <td>0.206076</td>\n",
       "      <td>0.096000</td>\n",
       "      <td>0.099000</td>\n",
       "      <td>0.307692</td>\n",
       "      <td>0.230769</td>\n",
       "      <td>0.160000</td>\n",
       "      <td>0.166667</td>\n",
       "      <td>0.195333</td>\n",
       "      <td>0.214000</td>\n",
       "      <td>0.061743</td>\n",
       "      <td>0.570681</td>\n",
       "      <td>0.700000</td>\n",
       "      <td>0.588235</td>\n",
       "      <td>0.302632</td>\n",
       "      <td>1.0</td>\n",
       "      <td>0.152542</td>\n",
       "    </tr>\n",
       "    <tr>\n",
       "      <th>4</th>\n",
       "      <td>0.618023</td>\n",
       "      <td>0.080667</td>\n",
       "      <td>0.086500</td>\n",
       "      <td>0.230769</td>\n",
       "      <td>0.230769</td>\n",
       "      <td>0.167333</td>\n",
       "      <td>0.189333</td>\n",
       "      <td>0.185333</td>\n",
       "      <td>0.207333</td>\n",
       "      <td>0.067273</td>\n",
       "      <td>0.308901</td>\n",
       "      <td>0.416667</td>\n",
       "      <td>0.235294</td>\n",
       "      <td>0.092105</td>\n",
       "      <td>1.0</td>\n",
       "      <td>0.055085</td>\n",
       "    </tr>\n",
       "    <tr>\n",
       "      <th>...</th>\n",
       "      <td>...</td>\n",
       "      <td>...</td>\n",
       "      <td>...</td>\n",
       "      <td>...</td>\n",
       "      <td>...</td>\n",
       "      <td>...</td>\n",
       "      <td>...</td>\n",
       "      <td>...</td>\n",
       "      <td>...</td>\n",
       "      <td>...</td>\n",
       "      <td>...</td>\n",
       "      <td>...</td>\n",
       "      <td>...</td>\n",
       "      <td>...</td>\n",
       "      <td>...</td>\n",
       "      <td>...</td>\n",
       "    </tr>\n",
       "    <tr>\n",
       "      <th>70381</th>\n",
       "      <td>0.288465</td>\n",
       "      <td>0.153667</td>\n",
       "      <td>0.207333</td>\n",
       "      <td>0.307692</td>\n",
       "      <td>0.307692</td>\n",
       "      <td>0.228000</td>\n",
       "      <td>0.273333</td>\n",
       "      <td>0.272000</td>\n",
       "      <td>0.323333</td>\n",
       "      <td>0.155518</td>\n",
       "      <td>0.136126</td>\n",
       "      <td>0.166667</td>\n",
       "      <td>0.235294</td>\n",
       "      <td>0.105263</td>\n",
       "      <td>1.0</td>\n",
       "      <td>0.008475</td>\n",
       "    </tr>\n",
       "    <tr>\n",
       "      <th>70382</th>\n",
       "      <td>0.464058</td>\n",
       "      <td>0.056833</td>\n",
       "      <td>0.070167</td>\n",
       "      <td>0.153846</td>\n",
       "      <td>0.076923</td>\n",
       "      <td>0.106000</td>\n",
       "      <td>0.123333</td>\n",
       "      <td>0.142667</td>\n",
       "      <td>0.157333</td>\n",
       "      <td>0.047343</td>\n",
       "      <td>0.178010</td>\n",
       "      <td>0.266667</td>\n",
       "      <td>0.352941</td>\n",
       "      <td>0.131579</td>\n",
       "      <td>1.0</td>\n",
       "      <td>0.038136</td>\n",
       "    </tr>\n",
       "    <tr>\n",
       "      <th>70383</th>\n",
       "      <td>0.494645</td>\n",
       "      <td>0.122167</td>\n",
       "      <td>0.145833</td>\n",
       "      <td>0.307692</td>\n",
       "      <td>0.230769</td>\n",
       "      <td>0.190000</td>\n",
       "      <td>0.192000</td>\n",
       "      <td>0.222000</td>\n",
       "      <td>0.222667</td>\n",
       "      <td>0.071498</td>\n",
       "      <td>0.287958</td>\n",
       "      <td>0.366667</td>\n",
       "      <td>0.294118</td>\n",
       "      <td>0.131579</td>\n",
       "      <td>1.0</td>\n",
       "      <td>0.097458</td>\n",
       "    </tr>\n",
       "    <tr>\n",
       "      <th>70384</th>\n",
       "      <td>0.515036</td>\n",
       "      <td>0.279833</td>\n",
       "      <td>0.287167</td>\n",
       "      <td>0.230769</td>\n",
       "      <td>0.230769</td>\n",
       "      <td>0.537333</td>\n",
       "      <td>0.557333</td>\n",
       "      <td>0.534667</td>\n",
       "      <td>0.566000</td>\n",
       "      <td>0.166585</td>\n",
       "      <td>0.031414</td>\n",
       "      <td>0.050000</td>\n",
       "      <td>0.176471</td>\n",
       "      <td>0.078947</td>\n",
       "      <td>1.0</td>\n",
       "      <td>0.000000</td>\n",
       "    </tr>\n",
       "    <tr>\n",
       "      <th>70385</th>\n",
       "      <td>0.185479</td>\n",
       "      <td>0.156333</td>\n",
       "      <td>0.174833</td>\n",
       "      <td>0.384615</td>\n",
       "      <td>0.384615</td>\n",
       "      <td>0.300667</td>\n",
       "      <td>0.316000</td>\n",
       "      <td>0.332667</td>\n",
       "      <td>0.346000</td>\n",
       "      <td>0.104823</td>\n",
       "      <td>0.706806</td>\n",
       "      <td>0.516667</td>\n",
       "      <td>0.352941</td>\n",
       "      <td>0.434211</td>\n",
       "      <td>1.0</td>\n",
       "      <td>0.161017</td>\n",
       "    </tr>\n",
       "  </tbody>\n",
       "</table>\n",
       "<p>70386 rows × 16 columns</p>\n",
       "</div>"
      ],
      "text/plain": [
       "            DOB       HV1       HV2       HV3       HV4       IC1       IC2  \\\n",
       "0      0.535736  0.911333  0.869667  0.923077  0.769231  0.725333  0.730667   \n",
       "1      0.000000  0.082833  0.091000  0.153846  0.076923  0.167333  0.194667   \n",
       "2      0.288465  0.166667  0.210500  0.153846  0.076923  0.257333  0.258667   \n",
       "3      0.206076  0.096000  0.099000  0.307692  0.230769  0.160000  0.166667   \n",
       "4      0.618023  0.080667  0.086500  0.230769  0.230769  0.167333  0.189333   \n",
       "...         ...       ...       ...       ...       ...       ...       ...   \n",
       "70381  0.288465  0.153667  0.207333  0.307692  0.307692  0.228000  0.273333   \n",
       "70382  0.464058  0.056833  0.070167  0.153846  0.076923  0.106000  0.123333   \n",
       "70383  0.494645  0.122167  0.145833  0.307692  0.230769  0.190000  0.192000   \n",
       "70384  0.515036  0.279833  0.287167  0.230769  0.230769  0.537333  0.557333   \n",
       "70385  0.185479  0.156333  0.174833  0.384615  0.384615  0.300667  0.316000   \n",
       "\n",
       "            IC3       IC4       IC5   NUMPROM  CARDPROM  CARDPM12  NUMPRM12  \\\n",
       "0      0.684000  0.691333  0.227079  0.146597  0.183333  0.352941  0.144737   \n",
       "1      0.194667  0.226667  0.072665  0.308901  0.416667  0.352941  0.157895   \n",
       "2      0.264000  0.282000  0.094974  0.324607  0.433333  0.352941  0.157895   \n",
       "3      0.195333  0.214000  0.061743  0.570681  0.700000  0.588235  0.302632   \n",
       "4      0.185333  0.207333  0.067273  0.308901  0.416667  0.235294  0.092105   \n",
       "...         ...       ...       ...       ...       ...       ...       ...   \n",
       "70381  0.272000  0.323333  0.155518  0.136126  0.166667  0.235294  0.105263   \n",
       "70382  0.142667  0.157333  0.047343  0.178010  0.266667  0.352941  0.131579   \n",
       "70383  0.222000  0.222667  0.071498  0.287958  0.366667  0.294118  0.131579   \n",
       "70384  0.534667  0.566000  0.166585  0.031414  0.050000  0.176471  0.078947   \n",
       "70385  0.332667  0.346000  0.104823  0.706806  0.516667  0.352941  0.434211   \n",
       "\n",
       "       MAXADATE  NGIFTALL  \n",
       "0           1.0  0.008475  \n",
       "1           1.0  0.110169  \n",
       "2           1.0  0.063559  \n",
       "3           1.0  0.152542  \n",
       "4           1.0  0.055085  \n",
       "...         ...       ...  \n",
       "70381       1.0  0.008475  \n",
       "70382       1.0  0.038136  \n",
       "70383       1.0  0.097458  \n",
       "70384       1.0  0.000000  \n",
       "70385       1.0  0.161017  \n",
       "\n",
       "[70386 rows x 16 columns]"
      ]
     },
     "execution_count": 12,
     "metadata": {},
     "output_type": "execute_result"
    }
   ],
   "source": [
    "X_normalized_income = pd.DataFrame(MinMaxScaler().fit_transform(X_income), columns=X_income.columns)\n",
    "X_normalized_income"
   ]
  },
  {
   "cell_type": "code",
   "execution_count": 13,
   "metadata": {},
   "outputs": [
    {
     "data": {
      "text/plain": [
       "(70386, 16)"
      ]
     },
     "metadata": {},
     "output_type": "display_data"
    },
    {
     "data": {
      "text/plain": [
       "(70386,)"
      ]
     },
     "metadata": {},
     "output_type": "display_data"
    }
   ],
   "source": [
    "display(X_normalized_income.shape)\n",
    "display(y_income.shape)"
   ]
  },
  {
   "cell_type": "code",
   "execution_count": 15,
   "metadata": {
    "colab": {
     "base_uri": "https://localhost:8080/"
    },
    "executionInfo": {
     "elapsed": 26975,
     "status": "ok",
     "timestamp": 1618167329807,
     "user": {
      "displayName": "David Henriques",
      "photoUrl": "",
      "userId": "14332050621134291491"
     },
     "user_tz": -60
    },
    "id": "49AN7579EwGq",
    "outputId": "c98170f9-a8f5-446c-95b3-53d7db79e738"
   },
   "outputs": [
    {
     "name": "stderr",
     "output_type": "stream",
     "text": [
      "C:\\Users\\sabba\\anaconda3\\lib\\site-packages\\sklearn\\neighbors\\_classification.py:228: FutureWarning: Unlike other reduction functions (e.g. `skew`, `kurtosis`), the default behavior of `mode` typically preserves the axis it acts along. In SciPy 1.11.0, this behavior will change: the default value of `keepdims` will become False, the `axis` over which the statistic is taken will be eliminated, and the value None will no longer be accepted. Set `keepdims` to True or False to avoid this warning.\n",
      "  mode, _ = stats.mode(_y[neigh_ind, k], axis=1)\n"
     ]
    },
    {
     "data": {
      "text/plain": [
       "0.5248628988719347"
      ]
     },
     "execution_count": 15,
     "metadata": {},
     "output_type": "execute_result"
    }
   ],
   "source": [
    "KNN = KNeighborsClassifier(n_neighbors=3)\n",
    "KNN.fit(X_normalized_income,y_income)\n",
    "KNN.score(X_normalized_income,y_income)"
   ]
  },
  {
   "cell_type": "code",
   "execution_count": 22,
   "metadata": {
    "executionInfo": {
     "elapsed": 26640,
     "status": "ok",
     "timestamp": 1618167329807,
     "user": {
      "displayName": "David Henriques",
      "photoUrl": "",
      "userId": "14332050621134291491"
     },
     "user_tz": -60
    },
    "id": "81aZzJpLI4aK"
   },
   "outputs": [],
   "source": [
    "## now on to predict the INCOME from the other features"
   ]
  },
  {
   "cell_type": "code",
   "execution_count": 16,
   "metadata": {},
   "outputs": [
    {
     "data": {
      "text/plain": [
       "(90569, 19)"
      ]
     },
     "execution_count": 16,
     "metadata": {},
     "output_type": "execute_result"
    }
   ],
   "source": [
    "numericals.shape"
   ]
  },
  {
   "cell_type": "code",
   "execution_count": 20,
   "metadata": {
    "executionInfo": {
     "elapsed": 26328,
     "status": "ok",
     "timestamp": 1618167329807,
     "user": {
      "displayName": "David Henriques",
      "photoUrl": "",
      "userId": "14332050621134291491"
     },
     "user_tz": -60
    },
    "id": "dLKT---qFQEC"
   },
   "outputs": [],
   "source": [
    "X_all = numericals.drop(['INCOME','TIMELAG','AVGGIFT'],axis=1)\n",
    "X_normalized_all = pd.DataFrame(MinMaxScaler().fit_transform(X_all), columns=X_all.columns)\n",
    "y_all = numericals['INCOME']"
   ]
  },
  {
   "cell_type": "code",
   "execution_count": 21,
   "metadata": {},
   "outputs": [
    {
     "data": {
      "text/plain": [
       "(90569,)"
      ]
     },
     "execution_count": 21,
     "metadata": {},
     "output_type": "execute_result"
    }
   ],
   "source": [
    "y_all.shape"
   ]
  },
  {
   "cell_type": "code",
   "execution_count": 42,
   "metadata": {
    "executionInfo": {
     "elapsed": 58505,
     "status": "ok",
     "timestamp": 1618167362296,
     "user": {
      "displayName": "David Henriques",
      "photoUrl": "",
      "userId": "14332050621134291491"
     },
     "user_tz": -60
    },
    "id": "mCfKzygOIc-C"
   },
   "outputs": [
    {
     "name": "stderr",
     "output_type": "stream",
     "text": [
      "C:\\Users\\sabba\\anaconda3\\lib\\site-packages\\sklearn\\neighbors\\_classification.py:228: FutureWarning: Unlike other reduction functions (e.g. `skew`, `kurtosis`), the default behavior of `mode` typically preserves the axis it acts along. In SciPy 1.11.0, this behavior will change: the default value of `keepdims` will become False, the `axis` over which the statistic is taken will be eliminated, and the value None will no longer be accepted. Set `keepdims` to True or False to avoid this warning.\n",
      "  mode, _ = stats.mode(_y[neigh_ind, k], axis=1)\n"
     ]
    }
   ],
   "source": [
    "predicted_income = pd.Series(KNN.predict(X_normalized_all),name='predicted_income')"
   ]
  },
  {
   "cell_type": "code",
   "execution_count": 43,
   "metadata": {
    "colab": {
     "base_uri": "https://localhost:8080/"
    },
    "executionInfo": {
     "elapsed": 58176,
     "status": "ok",
     "timestamp": 1618167362302,
     "user": {
      "displayName": "David Henriques",
      "photoUrl": "",
      "userId": "14332050621134291491"
     },
     "user_tz": -60
    },
    "id": "eTjEIEIgJear",
    "outputId": "891cacc7-7560-4e77-c729-dcf3a9b7ae30"
   },
   "outputs": [
    {
     "data": {
      "text/plain": [
       "2.0    23520\n",
       "1.0    22441\n",
       "4.0    13111\n",
       "5.0    12553\n",
       "3.0    10533\n",
       "7.0     4265\n",
       "6.0     4146\n",
       "Name: predicted_income, dtype: int64"
      ]
     },
     "execution_count": 43,
     "metadata": {},
     "output_type": "execute_result"
    }
   ],
   "source": [
    "predicted_income.value_counts(dropna=False)"
   ]
  },
  {
   "cell_type": "code",
   "execution_count": 44,
   "metadata": {},
   "outputs": [
    {
     "data": {
      "text/plain": [
       "NaN    20183\n",
       "5.0    14639\n",
       "2.0    12482\n",
       "4.0    12092\n",
       "1.0     8646\n",
       "3.0     8135\n",
       "6.0     7347\n",
       "7.0     7045\n",
       "Name: INCOME, dtype: int64"
      ]
     },
     "execution_count": 44,
     "metadata": {},
     "output_type": "execute_result"
    }
   ],
   "source": [
    "numericals['INCOME'].value_counts(dropna=False)"
   ]
  },
  {
   "cell_type": "code",
   "execution_count": 25,
   "metadata": {},
   "outputs": [
    {
     "data": {
      "text/plain": [
       "90569"
      ]
     },
     "execution_count": 25,
     "metadata": {},
     "output_type": "execute_result"
    }
   ],
   "source": [
    "len(predicted_income)"
   ]
  },
  {
   "cell_type": "code",
   "execution_count": 26,
   "metadata": {},
   "outputs": [
    {
     "data": {
      "text/plain": [
       "90569"
      ]
     },
     "execution_count": 26,
     "metadata": {},
     "output_type": "execute_result"
    }
   ],
   "source": [
    "len(data)"
   ]
  },
  {
   "cell_type": "code",
   "execution_count": 45,
   "metadata": {
    "colab": {
     "base_uri": "https://localhost:8080/",
     "height": 224
    },
    "executionInfo": {
     "elapsed": 57655,
     "status": "ok",
     "timestamp": 1618167362303,
     "user": {
      "displayName": "David Henriques",
      "photoUrl": "",
      "userId": "14332050621134291491"
     },
     "user_tz": -60
    },
    "id": "NSYgKdK_Ijql",
    "outputId": "1399e0c6-4863-4400-a13c-9677f578c82b"
   },
   "outputs": [],
   "source": [
    "data = pd.concat([data,predicted_income],axis=1)\n"
   ]
  },
  {
   "cell_type": "code",
   "execution_count": 46,
   "metadata": {},
   "outputs": [
    {
     "data": {
      "text/html": [
       "<div>\n",
       "<style scoped>\n",
       "    .dataframe tbody tr th:only-of-type {\n",
       "        vertical-align: middle;\n",
       "    }\n",
       "\n",
       "    .dataframe tbody tr th {\n",
       "        vertical-align: top;\n",
       "    }\n",
       "\n",
       "    .dataframe thead th {\n",
       "        text-align: right;\n",
       "    }\n",
       "</style>\n",
       "<table border=\"1\" class=\"dataframe\">\n",
       "  <thead>\n",
       "    <tr style=\"text-align: right;\">\n",
       "      <th></th>\n",
       "      <th>STATE</th>\n",
       "      <th>PVASTATE</th>\n",
       "      <th>DOB</th>\n",
       "      <th>MDMAUD</th>\n",
       "      <th>RECP3</th>\n",
       "      <th>GENDER</th>\n",
       "      <th>DOMAIN</th>\n",
       "      <th>INCOME</th>\n",
       "      <th>HOMEOWNR</th>\n",
       "      <th>HV1</th>\n",
       "      <th>HV2</th>\n",
       "      <th>HV3</th>\n",
       "      <th>HV4</th>\n",
       "      <th>IC1</th>\n",
       "      <th>IC2</th>\n",
       "      <th>IC3</th>\n",
       "      <th>IC4</th>\n",
       "      <th>IC5</th>\n",
       "      <th>VETERANS</th>\n",
       "      <th>NUMPROM</th>\n",
       "      <th>CARDPROM</th>\n",
       "      <th>CARDPM12</th>\n",
       "      <th>NUMPRM12</th>\n",
       "      <th>MAXADATE</th>\n",
       "      <th>RFA_2</th>\n",
       "      <th>NGIFTALL</th>\n",
       "      <th>TIMELAG</th>\n",
       "      <th>AVGGIFT</th>\n",
       "      <th>predicted_income</th>\n",
       "    </tr>\n",
       "  </thead>\n",
       "  <tbody>\n",
       "    <tr>\n",
       "      <th>0</th>\n",
       "      <td>IL</td>\n",
       "      <td>NaN</td>\n",
       "      <td>3712</td>\n",
       "      <td>XXXX</td>\n",
       "      <td>NaN</td>\n",
       "      <td>F</td>\n",
       "      <td>T2</td>\n",
       "      <td>NaN</td>\n",
       "      <td>NaN</td>\n",
       "      <td>479</td>\n",
       "      <td>635</td>\n",
       "      <td>3</td>\n",
       "      <td>2</td>\n",
       "      <td>307</td>\n",
       "      <td>318</td>\n",
       "      <td>349</td>\n",
       "      <td>378</td>\n",
       "      <td>12883</td>\n",
       "      <td>NaN</td>\n",
       "      <td>74</td>\n",
       "      <td>27</td>\n",
       "      <td>6</td>\n",
       "      <td>14</td>\n",
       "      <td>9702</td>\n",
       "      <td>L4E</td>\n",
       "      <td>31</td>\n",
       "      <td>4.0</td>\n",
       "      <td>7.741935</td>\n",
       "      <td>4.0</td>\n",
       "    </tr>\n",
       "    <tr>\n",
       "      <th>1</th>\n",
       "      <td>CA</td>\n",
       "      <td>NaN</td>\n",
       "      <td>5202</td>\n",
       "      <td>XXXX</td>\n",
       "      <td>NaN</td>\n",
       "      <td>M</td>\n",
       "      <td>S1</td>\n",
       "      <td>6.0</td>\n",
       "      <td>H</td>\n",
       "      <td>5468</td>\n",
       "      <td>5218</td>\n",
       "      <td>12</td>\n",
       "      <td>10</td>\n",
       "      <td>1088</td>\n",
       "      <td>1096</td>\n",
       "      <td>1026</td>\n",
       "      <td>1037</td>\n",
       "      <td>36175</td>\n",
       "      <td>NaN</td>\n",
       "      <td>32</td>\n",
       "      <td>12</td>\n",
       "      <td>6</td>\n",
       "      <td>13</td>\n",
       "      <td>9702</td>\n",
       "      <td>L2G</td>\n",
       "      <td>3</td>\n",
       "      <td>18.0</td>\n",
       "      <td>15.666667</td>\n",
       "      <td>6.0</td>\n",
       "    </tr>\n",
       "    <tr>\n",
       "      <th>2</th>\n",
       "      <td>NC</td>\n",
       "      <td>NaN</td>\n",
       "      <td>0</td>\n",
       "      <td>XXXX</td>\n",
       "      <td>NaN</td>\n",
       "      <td>M</td>\n",
       "      <td>R2</td>\n",
       "      <td>3.0</td>\n",
       "      <td>U</td>\n",
       "      <td>497</td>\n",
       "      <td>546</td>\n",
       "      <td>2</td>\n",
       "      <td>1</td>\n",
       "      <td>251</td>\n",
       "      <td>292</td>\n",
       "      <td>292</td>\n",
       "      <td>340</td>\n",
       "      <td>11576</td>\n",
       "      <td>NaN</td>\n",
       "      <td>63</td>\n",
       "      <td>26</td>\n",
       "      <td>6</td>\n",
       "      <td>14</td>\n",
       "      <td>9702</td>\n",
       "      <td>L4E</td>\n",
       "      <td>27</td>\n",
       "      <td>12.0</td>\n",
       "      <td>7.481481</td>\n",
       "      <td>2.0</td>\n",
       "    </tr>\n",
       "    <tr>\n",
       "      <th>3</th>\n",
       "      <td>CA</td>\n",
       "      <td>NaN</td>\n",
       "      <td>2801</td>\n",
       "      <td>XXXX</td>\n",
       "      <td>NaN</td>\n",
       "      <td>F</td>\n",
       "      <td>R2</td>\n",
       "      <td>1.0</td>\n",
       "      <td>U</td>\n",
       "      <td>1000</td>\n",
       "      <td>1263</td>\n",
       "      <td>2</td>\n",
       "      <td>1</td>\n",
       "      <td>386</td>\n",
       "      <td>388</td>\n",
       "      <td>396</td>\n",
       "      <td>423</td>\n",
       "      <td>15130</td>\n",
       "      <td>NaN</td>\n",
       "      <td>66</td>\n",
       "      <td>27</td>\n",
       "      <td>6</td>\n",
       "      <td>14</td>\n",
       "      <td>9702</td>\n",
       "      <td>L4E</td>\n",
       "      <td>16</td>\n",
       "      <td>9.0</td>\n",
       "      <td>6.812500</td>\n",
       "      <td>1.0</td>\n",
       "    </tr>\n",
       "    <tr>\n",
       "      <th>4</th>\n",
       "      <td>FL</td>\n",
       "      <td>NaN</td>\n",
       "      <td>2001</td>\n",
       "      <td>XXXX</td>\n",
       "      <td>X</td>\n",
       "      <td>F</td>\n",
       "      <td>S2</td>\n",
       "      <td>3.0</td>\n",
       "      <td>H</td>\n",
       "      <td>576</td>\n",
       "      <td>594</td>\n",
       "      <td>4</td>\n",
       "      <td>3</td>\n",
       "      <td>240</td>\n",
       "      <td>250</td>\n",
       "      <td>293</td>\n",
       "      <td>321</td>\n",
       "      <td>9836</td>\n",
       "      <td>NaN</td>\n",
       "      <td>113</td>\n",
       "      <td>43</td>\n",
       "      <td>10</td>\n",
       "      <td>25</td>\n",
       "      <td>9702</td>\n",
       "      <td>L2F</td>\n",
       "      <td>37</td>\n",
       "      <td>14.0</td>\n",
       "      <td>6.864865</td>\n",
       "      <td>1.0</td>\n",
       "    </tr>\n",
       "    <tr>\n",
       "      <th>...</th>\n",
       "      <td>...</td>\n",
       "      <td>...</td>\n",
       "      <td>...</td>\n",
       "      <td>...</td>\n",
       "      <td>...</td>\n",
       "      <td>...</td>\n",
       "      <td>...</td>\n",
       "      <td>...</td>\n",
       "      <td>...</td>\n",
       "      <td>...</td>\n",
       "      <td>...</td>\n",
       "      <td>...</td>\n",
       "      <td>...</td>\n",
       "      <td>...</td>\n",
       "      <td>...</td>\n",
       "      <td>...</td>\n",
       "      <td>...</td>\n",
       "      <td>...</td>\n",
       "      <td>...</td>\n",
       "      <td>...</td>\n",
       "      <td>...</td>\n",
       "      <td>...</td>\n",
       "      <td>...</td>\n",
       "      <td>...</td>\n",
       "      <td>...</td>\n",
       "      <td>...</td>\n",
       "      <td>...</td>\n",
       "      <td>...</td>\n",
       "      <td>...</td>\n",
       "    </tr>\n",
       "    <tr>\n",
       "      <th>90564</th>\n",
       "      <td>FL</td>\n",
       "      <td>NaN</td>\n",
       "      <td>4803</td>\n",
       "      <td>XXXX</td>\n",
       "      <td>NaN</td>\n",
       "      <td>F</td>\n",
       "      <td>S2</td>\n",
       "      <td>6.0</td>\n",
       "      <td>H</td>\n",
       "      <td>733</td>\n",
       "      <td>875</td>\n",
       "      <td>4</td>\n",
       "      <td>3</td>\n",
       "      <td>285</td>\n",
       "      <td>288</td>\n",
       "      <td>333</td>\n",
       "      <td>334</td>\n",
       "      <td>11390</td>\n",
       "      <td>NaN</td>\n",
       "      <td>59</td>\n",
       "      <td>23</td>\n",
       "      <td>5</td>\n",
       "      <td>12</td>\n",
       "      <td>9702</td>\n",
       "      <td>L4D</td>\n",
       "      <td>24</td>\n",
       "      <td>3.0</td>\n",
       "      <td>3.375000</td>\n",
       "      <td>2.0</td>\n",
       "    </tr>\n",
       "    <tr>\n",
       "      <th>90565</th>\n",
       "      <td>AK</td>\n",
       "      <td>NaN</td>\n",
       "      <td>0</td>\n",
       "      <td>XXXX</td>\n",
       "      <td>NaN</td>\n",
       "      <td>M</td>\n",
       "      <td>C2</td>\n",
       "      <td>NaN</td>\n",
       "      <td>NaN</td>\n",
       "      <td>988</td>\n",
       "      <td>1025</td>\n",
       "      <td>6</td>\n",
       "      <td>6</td>\n",
       "      <td>433</td>\n",
       "      <td>481</td>\n",
       "      <td>499</td>\n",
       "      <td>535</td>\n",
       "      <td>18807</td>\n",
       "      <td>NaN</td>\n",
       "      <td>14</td>\n",
       "      <td>6</td>\n",
       "      <td>5</td>\n",
       "      <td>12</td>\n",
       "      <td>9702</td>\n",
       "      <td>L1G</td>\n",
       "      <td>1</td>\n",
       "      <td>NaN</td>\n",
       "      <td>25.000000</td>\n",
       "      <td>2.0</td>\n",
       "    </tr>\n",
       "    <tr>\n",
       "      <th>90566</th>\n",
       "      <td>TX</td>\n",
       "      <td>NaN</td>\n",
       "      <td>5001</td>\n",
       "      <td>XXXX</td>\n",
       "      <td>NaN</td>\n",
       "      <td>M</td>\n",
       "      <td>C1</td>\n",
       "      <td>7.0</td>\n",
       "      <td>H</td>\n",
       "      <td>1679</td>\n",
       "      <td>1723</td>\n",
       "      <td>3</td>\n",
       "      <td>3</td>\n",
       "      <td>806</td>\n",
       "      <td>836</td>\n",
       "      <td>802</td>\n",
       "      <td>849</td>\n",
       "      <td>26538</td>\n",
       "      <td>NaN</td>\n",
       "      <td>10</td>\n",
       "      <td>4</td>\n",
       "      <td>3</td>\n",
       "      <td>8</td>\n",
       "      <td>9702</td>\n",
       "      <td>L1F</td>\n",
       "      <td>1</td>\n",
       "      <td>NaN</td>\n",
       "      <td>20.000000</td>\n",
       "      <td>7.0</td>\n",
       "    </tr>\n",
       "    <tr>\n",
       "      <th>90567</th>\n",
       "      <td>MI</td>\n",
       "      <td>NaN</td>\n",
       "      <td>3801</td>\n",
       "      <td>XXXX</td>\n",
       "      <td>X</td>\n",
       "      <td>M</td>\n",
       "      <td>C3</td>\n",
       "      <td>NaN</td>\n",
       "      <td>NaN</td>\n",
       "      <td>376</td>\n",
       "      <td>377</td>\n",
       "      <td>4</td>\n",
       "      <td>3</td>\n",
       "      <td>263</td>\n",
       "      <td>264</td>\n",
       "      <td>319</td>\n",
       "      <td>345</td>\n",
       "      <td>12178</td>\n",
       "      <td>NaN</td>\n",
       "      <td>33</td>\n",
       "      <td>14</td>\n",
       "      <td>7</td>\n",
       "      <td>17</td>\n",
       "      <td>9702</td>\n",
       "      <td>L3E</td>\n",
       "      <td>7</td>\n",
       "      <td>3.0</td>\n",
       "      <td>8.285714</td>\n",
       "      <td>3.0</td>\n",
       "    </tr>\n",
       "    <tr>\n",
       "      <th>90568</th>\n",
       "      <td>NC</td>\n",
       "      <td>NaN</td>\n",
       "      <td>1801</td>\n",
       "      <td>C1CM</td>\n",
       "      <td>NaN</td>\n",
       "      <td>F</td>\n",
       "      <td>C1</td>\n",
       "      <td>5.0</td>\n",
       "      <td>U</td>\n",
       "      <td>938</td>\n",
       "      <td>1049</td>\n",
       "      <td>5</td>\n",
       "      <td>5</td>\n",
       "      <td>451</td>\n",
       "      <td>474</td>\n",
       "      <td>499</td>\n",
       "      <td>519</td>\n",
       "      <td>16699</td>\n",
       "      <td>NaN</td>\n",
       "      <td>139</td>\n",
       "      <td>32</td>\n",
       "      <td>6</td>\n",
       "      <td>35</td>\n",
       "      <td>9702</td>\n",
       "      <td>L1G</td>\n",
       "      <td>39</td>\n",
       "      <td>6.0</td>\n",
       "      <td>96.794872</td>\n",
       "      <td>2.0</td>\n",
       "    </tr>\n",
       "  </tbody>\n",
       "</table>\n",
       "<p>90569 rows × 29 columns</p>\n",
       "</div>"
      ],
      "text/plain": [
       "      STATE PVASTATE   DOB MDMAUD RECP3 GENDER DOMAIN  INCOME HOMEOWNR   HV1  \\\n",
       "0        IL      NaN  3712   XXXX   NaN      F     T2     NaN      NaN   479   \n",
       "1        CA      NaN  5202   XXXX   NaN      M     S1     6.0        H  5468   \n",
       "2        NC      NaN     0   XXXX   NaN      M     R2     3.0        U   497   \n",
       "3        CA      NaN  2801   XXXX   NaN      F     R2     1.0        U  1000   \n",
       "4        FL      NaN  2001   XXXX     X      F     S2     3.0        H   576   \n",
       "...     ...      ...   ...    ...   ...    ...    ...     ...      ...   ...   \n",
       "90564    FL      NaN  4803   XXXX   NaN      F     S2     6.0        H   733   \n",
       "90565    AK      NaN     0   XXXX   NaN      M     C2     NaN      NaN   988   \n",
       "90566    TX      NaN  5001   XXXX   NaN      M     C1     7.0        H  1679   \n",
       "90567    MI      NaN  3801   XXXX     X      M     C3     NaN      NaN   376   \n",
       "90568    NC      NaN  1801   C1CM   NaN      F     C1     5.0        U   938   \n",
       "\n",
       "        HV2  HV3  HV4   IC1   IC2   IC3   IC4    IC5 VETERANS  NUMPROM  \\\n",
       "0       635    3    2   307   318   349   378  12883      NaN       74   \n",
       "1      5218   12   10  1088  1096  1026  1037  36175      NaN       32   \n",
       "2       546    2    1   251   292   292   340  11576      NaN       63   \n",
       "3      1263    2    1   386   388   396   423  15130      NaN       66   \n",
       "4       594    4    3   240   250   293   321   9836      NaN      113   \n",
       "...     ...  ...  ...   ...   ...   ...   ...    ...      ...      ...   \n",
       "90564   875    4    3   285   288   333   334  11390      NaN       59   \n",
       "90565  1025    6    6   433   481   499   535  18807      NaN       14   \n",
       "90566  1723    3    3   806   836   802   849  26538      NaN       10   \n",
       "90567   377    4    3   263   264   319   345  12178      NaN       33   \n",
       "90568  1049    5    5   451   474   499   519  16699      NaN      139   \n",
       "\n",
       "       CARDPROM  CARDPM12  NUMPRM12  MAXADATE RFA_2  NGIFTALL  TIMELAG  \\\n",
       "0            27         6        14      9702   L4E        31      4.0   \n",
       "1            12         6        13      9702   L2G         3     18.0   \n",
       "2            26         6        14      9702   L4E        27     12.0   \n",
       "3            27         6        14      9702   L4E        16      9.0   \n",
       "4            43        10        25      9702   L2F        37     14.0   \n",
       "...         ...       ...       ...       ...   ...       ...      ...   \n",
       "90564        23         5        12      9702   L4D        24      3.0   \n",
       "90565         6         5        12      9702   L1G         1      NaN   \n",
       "90566         4         3         8      9702   L1F         1      NaN   \n",
       "90567        14         7        17      9702   L3E         7      3.0   \n",
       "90568        32         6        35      9702   L1G        39      6.0   \n",
       "\n",
       "         AVGGIFT  predicted_income  \n",
       "0       7.741935               4.0  \n",
       "1      15.666667               6.0  \n",
       "2       7.481481               2.0  \n",
       "3       6.812500               1.0  \n",
       "4       6.864865               1.0  \n",
       "...          ...               ...  \n",
       "90564   3.375000               2.0  \n",
       "90565  25.000000               2.0  \n",
       "90566  20.000000               7.0  \n",
       "90567   8.285714               3.0  \n",
       "90568  96.794872               2.0  \n",
       "\n",
       "[90569 rows x 29 columns]"
      ]
     },
     "execution_count": 46,
     "metadata": {},
     "output_type": "execute_result"
    }
   ],
   "source": [
    "data"
   ]
  },
  {
   "cell_type": "code",
   "execution_count": 30,
   "metadata": {},
   "outputs": [
    {
     "data": {
      "text/html": [
       "<div>\n",
       "<style scoped>\n",
       "    .dataframe tbody tr th:only-of-type {\n",
       "        vertical-align: middle;\n",
       "    }\n",
       "\n",
       "    .dataframe tbody tr th {\n",
       "        vertical-align: top;\n",
       "    }\n",
       "\n",
       "    .dataframe thead th {\n",
       "        text-align: right;\n",
       "    }\n",
       "</style>\n",
       "<table border=\"1\" class=\"dataframe\">\n",
       "  <thead>\n",
       "    <tr style=\"text-align: right;\">\n",
       "      <th></th>\n",
       "      <th>INCOME</th>\n",
       "      <th>predicted_income</th>\n",
       "      <th>predicted_income</th>\n",
       "    </tr>\n",
       "  </thead>\n",
       "  <tbody>\n",
       "    <tr>\n",
       "      <th>0</th>\n",
       "      <td>NaN</td>\n",
       "      <td>4.0</td>\n",
       "      <td>4.0</td>\n",
       "    </tr>\n",
       "    <tr>\n",
       "      <th>1</th>\n",
       "      <td>6.0</td>\n",
       "      <td>6.0</td>\n",
       "      <td>6.0</td>\n",
       "    </tr>\n",
       "    <tr>\n",
       "      <th>2</th>\n",
       "      <td>3.0</td>\n",
       "      <td>2.0</td>\n",
       "      <td>2.0</td>\n",
       "    </tr>\n",
       "    <tr>\n",
       "      <th>3</th>\n",
       "      <td>1.0</td>\n",
       "      <td>1.0</td>\n",
       "      <td>1.0</td>\n",
       "    </tr>\n",
       "    <tr>\n",
       "      <th>4</th>\n",
       "      <td>3.0</td>\n",
       "      <td>1.0</td>\n",
       "      <td>1.0</td>\n",
       "    </tr>\n",
       "    <tr>\n",
       "      <th>5</th>\n",
       "      <td>NaN</td>\n",
       "      <td>2.0</td>\n",
       "      <td>2.0</td>\n",
       "    </tr>\n",
       "    <tr>\n",
       "      <th>6</th>\n",
       "      <td>4.0</td>\n",
       "      <td>2.0</td>\n",
       "      <td>2.0</td>\n",
       "    </tr>\n",
       "    <tr>\n",
       "      <th>7</th>\n",
       "      <td>2.0</td>\n",
       "      <td>1.0</td>\n",
       "      <td>1.0</td>\n",
       "    </tr>\n",
       "    <tr>\n",
       "      <th>8</th>\n",
       "      <td>3.0</td>\n",
       "      <td>3.0</td>\n",
       "      <td>3.0</td>\n",
       "    </tr>\n",
       "    <tr>\n",
       "      <th>9</th>\n",
       "      <td>NaN</td>\n",
       "      <td>2.0</td>\n",
       "      <td>2.0</td>\n",
       "    </tr>\n",
       "    <tr>\n",
       "      <th>10</th>\n",
       "      <td>2.0</td>\n",
       "      <td>1.0</td>\n",
       "      <td>1.0</td>\n",
       "    </tr>\n",
       "    <tr>\n",
       "      <th>11</th>\n",
       "      <td>1.0</td>\n",
       "      <td>1.0</td>\n",
       "      <td>1.0</td>\n",
       "    </tr>\n",
       "    <tr>\n",
       "      <th>12</th>\n",
       "      <td>4.0</td>\n",
       "      <td>1.0</td>\n",
       "      <td>1.0</td>\n",
       "    </tr>\n",
       "    <tr>\n",
       "      <th>13</th>\n",
       "      <td>NaN</td>\n",
       "      <td>2.0</td>\n",
       "      <td>2.0</td>\n",
       "    </tr>\n",
       "    <tr>\n",
       "      <th>14</th>\n",
       "      <td>4.0</td>\n",
       "      <td>2.0</td>\n",
       "      <td>2.0</td>\n",
       "    </tr>\n",
       "    <tr>\n",
       "      <th>15</th>\n",
       "      <td>1.0</td>\n",
       "      <td>1.0</td>\n",
       "      <td>1.0</td>\n",
       "    </tr>\n",
       "    <tr>\n",
       "      <th>16</th>\n",
       "      <td>1.0</td>\n",
       "      <td>1.0</td>\n",
       "      <td>1.0</td>\n",
       "    </tr>\n",
       "    <tr>\n",
       "      <th>17</th>\n",
       "      <td>7.0</td>\n",
       "      <td>4.0</td>\n",
       "      <td>4.0</td>\n",
       "    </tr>\n",
       "    <tr>\n",
       "      <th>18</th>\n",
       "      <td>4.0</td>\n",
       "      <td>1.0</td>\n",
       "      <td>1.0</td>\n",
       "    </tr>\n",
       "    <tr>\n",
       "      <th>19</th>\n",
       "      <td>NaN</td>\n",
       "      <td>1.0</td>\n",
       "      <td>1.0</td>\n",
       "    </tr>\n",
       "    <tr>\n",
       "      <th>20</th>\n",
       "      <td>2.0</td>\n",
       "      <td>2.0</td>\n",
       "      <td>2.0</td>\n",
       "    </tr>\n",
       "    <tr>\n",
       "      <th>21</th>\n",
       "      <td>NaN</td>\n",
       "      <td>1.0</td>\n",
       "      <td>1.0</td>\n",
       "    </tr>\n",
       "    <tr>\n",
       "      <th>22</th>\n",
       "      <td>NaN</td>\n",
       "      <td>5.0</td>\n",
       "      <td>5.0</td>\n",
       "    </tr>\n",
       "    <tr>\n",
       "      <th>23</th>\n",
       "      <td>7.0</td>\n",
       "      <td>7.0</td>\n",
       "      <td>7.0</td>\n",
       "    </tr>\n",
       "    <tr>\n",
       "      <th>24</th>\n",
       "      <td>7.0</td>\n",
       "      <td>4.0</td>\n",
       "      <td>4.0</td>\n",
       "    </tr>\n",
       "  </tbody>\n",
       "</table>\n",
       "</div>"
      ],
      "text/plain": [
       "    INCOME  predicted_income  predicted_income\n",
       "0      NaN               4.0               4.0\n",
       "1      6.0               6.0               6.0\n",
       "2      3.0               2.0               2.0\n",
       "3      1.0               1.0               1.0\n",
       "4      3.0               1.0               1.0\n",
       "5      NaN               2.0               2.0\n",
       "6      4.0               2.0               2.0\n",
       "7      2.0               1.0               1.0\n",
       "8      3.0               3.0               3.0\n",
       "9      NaN               2.0               2.0\n",
       "10     2.0               1.0               1.0\n",
       "11     1.0               1.0               1.0\n",
       "12     4.0               1.0               1.0\n",
       "13     NaN               2.0               2.0\n",
       "14     4.0               2.0               2.0\n",
       "15     1.0               1.0               1.0\n",
       "16     1.0               1.0               1.0\n",
       "17     7.0               4.0               4.0\n",
       "18     4.0               1.0               1.0\n",
       "19     NaN               1.0               1.0\n",
       "20     2.0               2.0               2.0\n",
       "21     NaN               1.0               1.0\n",
       "22     NaN               5.0               5.0\n",
       "23     7.0               7.0               7.0\n",
       "24     7.0               4.0               4.0"
      ]
     },
     "execution_count": 30,
     "metadata": {},
     "output_type": "execute_result"
    }
   ],
   "source": [
    "data[['INCOME','predicted_income']].head(25)"
   ]
  },
  {
   "cell_type": "code",
   "execution_count": 31,
   "metadata": {},
   "outputs": [
    {
     "data": {
      "text/plain": [
       "3.8782570397522234"
      ]
     },
     "execution_count": 31,
     "metadata": {},
     "output_type": "execute_result"
    }
   ],
   "source": [
    "data.INCOME.mean()"
   ]
  },
  {
   "cell_type": "code",
   "execution_count": 40,
   "metadata": {},
   "outputs": [],
   "source": [
    "#data=data.drop(['predicted_income'], axis=1)"
   ]
  },
  {
   "cell_type": "code",
   "execution_count": 41,
   "metadata": {},
   "outputs": [
    {
     "data": {
      "text/html": [
       "<div>\n",
       "<style scoped>\n",
       "    .dataframe tbody tr th:only-of-type {\n",
       "        vertical-align: middle;\n",
       "    }\n",
       "\n",
       "    .dataframe tbody tr th {\n",
       "        vertical-align: top;\n",
       "    }\n",
       "\n",
       "    .dataframe thead th {\n",
       "        text-align: right;\n",
       "    }\n",
       "</style>\n",
       "<table border=\"1\" class=\"dataframe\">\n",
       "  <thead>\n",
       "    <tr style=\"text-align: right;\">\n",
       "      <th></th>\n",
       "      <th>STATE</th>\n",
       "      <th>PVASTATE</th>\n",
       "      <th>DOB</th>\n",
       "      <th>MDMAUD</th>\n",
       "      <th>RECP3</th>\n",
       "      <th>GENDER</th>\n",
       "      <th>DOMAIN</th>\n",
       "      <th>INCOME</th>\n",
       "      <th>HOMEOWNR</th>\n",
       "      <th>HV1</th>\n",
       "      <th>HV2</th>\n",
       "      <th>HV3</th>\n",
       "      <th>HV4</th>\n",
       "      <th>IC1</th>\n",
       "      <th>IC2</th>\n",
       "      <th>IC3</th>\n",
       "      <th>IC4</th>\n",
       "      <th>IC5</th>\n",
       "      <th>VETERANS</th>\n",
       "      <th>NUMPROM</th>\n",
       "      <th>CARDPROM</th>\n",
       "      <th>CARDPM12</th>\n",
       "      <th>NUMPRM12</th>\n",
       "      <th>MAXADATE</th>\n",
       "      <th>RFA_2</th>\n",
       "      <th>NGIFTALL</th>\n",
       "      <th>TIMELAG</th>\n",
       "      <th>AVGGIFT</th>\n",
       "    </tr>\n",
       "  </thead>\n",
       "  <tbody>\n",
       "    <tr>\n",
       "      <th>0</th>\n",
       "      <td>IL</td>\n",
       "      <td>NaN</td>\n",
       "      <td>3712</td>\n",
       "      <td>XXXX</td>\n",
       "      <td>NaN</td>\n",
       "      <td>F</td>\n",
       "      <td>T2</td>\n",
       "      <td>NaN</td>\n",
       "      <td>NaN</td>\n",
       "      <td>479</td>\n",
       "      <td>635</td>\n",
       "      <td>3</td>\n",
       "      <td>2</td>\n",
       "      <td>307</td>\n",
       "      <td>318</td>\n",
       "      <td>349</td>\n",
       "      <td>378</td>\n",
       "      <td>12883</td>\n",
       "      <td>NaN</td>\n",
       "      <td>74</td>\n",
       "      <td>27</td>\n",
       "      <td>6</td>\n",
       "      <td>14</td>\n",
       "      <td>9702</td>\n",
       "      <td>L4E</td>\n",
       "      <td>31</td>\n",
       "      <td>4.0</td>\n",
       "      <td>7.741935</td>\n",
       "    </tr>\n",
       "    <tr>\n",
       "      <th>1</th>\n",
       "      <td>CA</td>\n",
       "      <td>NaN</td>\n",
       "      <td>5202</td>\n",
       "      <td>XXXX</td>\n",
       "      <td>NaN</td>\n",
       "      <td>M</td>\n",
       "      <td>S1</td>\n",
       "      <td>6.0</td>\n",
       "      <td>H</td>\n",
       "      <td>5468</td>\n",
       "      <td>5218</td>\n",
       "      <td>12</td>\n",
       "      <td>10</td>\n",
       "      <td>1088</td>\n",
       "      <td>1096</td>\n",
       "      <td>1026</td>\n",
       "      <td>1037</td>\n",
       "      <td>36175</td>\n",
       "      <td>NaN</td>\n",
       "      <td>32</td>\n",
       "      <td>12</td>\n",
       "      <td>6</td>\n",
       "      <td>13</td>\n",
       "      <td>9702</td>\n",
       "      <td>L2G</td>\n",
       "      <td>3</td>\n",
       "      <td>18.0</td>\n",
       "      <td>15.666667</td>\n",
       "    </tr>\n",
       "    <tr>\n",
       "      <th>2</th>\n",
       "      <td>NC</td>\n",
       "      <td>NaN</td>\n",
       "      <td>0</td>\n",
       "      <td>XXXX</td>\n",
       "      <td>NaN</td>\n",
       "      <td>M</td>\n",
       "      <td>R2</td>\n",
       "      <td>3.0</td>\n",
       "      <td>U</td>\n",
       "      <td>497</td>\n",
       "      <td>546</td>\n",
       "      <td>2</td>\n",
       "      <td>1</td>\n",
       "      <td>251</td>\n",
       "      <td>292</td>\n",
       "      <td>292</td>\n",
       "      <td>340</td>\n",
       "      <td>11576</td>\n",
       "      <td>NaN</td>\n",
       "      <td>63</td>\n",
       "      <td>26</td>\n",
       "      <td>6</td>\n",
       "      <td>14</td>\n",
       "      <td>9702</td>\n",
       "      <td>L4E</td>\n",
       "      <td>27</td>\n",
       "      <td>12.0</td>\n",
       "      <td>7.481481</td>\n",
       "    </tr>\n",
       "    <tr>\n",
       "      <th>3</th>\n",
       "      <td>CA</td>\n",
       "      <td>NaN</td>\n",
       "      <td>2801</td>\n",
       "      <td>XXXX</td>\n",
       "      <td>NaN</td>\n",
       "      <td>F</td>\n",
       "      <td>R2</td>\n",
       "      <td>1.0</td>\n",
       "      <td>U</td>\n",
       "      <td>1000</td>\n",
       "      <td>1263</td>\n",
       "      <td>2</td>\n",
       "      <td>1</td>\n",
       "      <td>386</td>\n",
       "      <td>388</td>\n",
       "      <td>396</td>\n",
       "      <td>423</td>\n",
       "      <td>15130</td>\n",
       "      <td>NaN</td>\n",
       "      <td>66</td>\n",
       "      <td>27</td>\n",
       "      <td>6</td>\n",
       "      <td>14</td>\n",
       "      <td>9702</td>\n",
       "      <td>L4E</td>\n",
       "      <td>16</td>\n",
       "      <td>9.0</td>\n",
       "      <td>6.812500</td>\n",
       "    </tr>\n",
       "    <tr>\n",
       "      <th>4</th>\n",
       "      <td>FL</td>\n",
       "      <td>NaN</td>\n",
       "      <td>2001</td>\n",
       "      <td>XXXX</td>\n",
       "      <td>X</td>\n",
       "      <td>F</td>\n",
       "      <td>S2</td>\n",
       "      <td>3.0</td>\n",
       "      <td>H</td>\n",
       "      <td>576</td>\n",
       "      <td>594</td>\n",
       "      <td>4</td>\n",
       "      <td>3</td>\n",
       "      <td>240</td>\n",
       "      <td>250</td>\n",
       "      <td>293</td>\n",
       "      <td>321</td>\n",
       "      <td>9836</td>\n",
       "      <td>NaN</td>\n",
       "      <td>113</td>\n",
       "      <td>43</td>\n",
       "      <td>10</td>\n",
       "      <td>25</td>\n",
       "      <td>9702</td>\n",
       "      <td>L2F</td>\n",
       "      <td>37</td>\n",
       "      <td>14.0</td>\n",
       "      <td>6.864865</td>\n",
       "    </tr>\n",
       "    <tr>\n",
       "      <th>...</th>\n",
       "      <td>...</td>\n",
       "      <td>...</td>\n",
       "      <td>...</td>\n",
       "      <td>...</td>\n",
       "      <td>...</td>\n",
       "      <td>...</td>\n",
       "      <td>...</td>\n",
       "      <td>...</td>\n",
       "      <td>...</td>\n",
       "      <td>...</td>\n",
       "      <td>...</td>\n",
       "      <td>...</td>\n",
       "      <td>...</td>\n",
       "      <td>...</td>\n",
       "      <td>...</td>\n",
       "      <td>...</td>\n",
       "      <td>...</td>\n",
       "      <td>...</td>\n",
       "      <td>...</td>\n",
       "      <td>...</td>\n",
       "      <td>...</td>\n",
       "      <td>...</td>\n",
       "      <td>...</td>\n",
       "      <td>...</td>\n",
       "      <td>...</td>\n",
       "      <td>...</td>\n",
       "      <td>...</td>\n",
       "      <td>...</td>\n",
       "    </tr>\n",
       "    <tr>\n",
       "      <th>90564</th>\n",
       "      <td>FL</td>\n",
       "      <td>NaN</td>\n",
       "      <td>4803</td>\n",
       "      <td>XXXX</td>\n",
       "      <td>NaN</td>\n",
       "      <td>F</td>\n",
       "      <td>S2</td>\n",
       "      <td>6.0</td>\n",
       "      <td>H</td>\n",
       "      <td>733</td>\n",
       "      <td>875</td>\n",
       "      <td>4</td>\n",
       "      <td>3</td>\n",
       "      <td>285</td>\n",
       "      <td>288</td>\n",
       "      <td>333</td>\n",
       "      <td>334</td>\n",
       "      <td>11390</td>\n",
       "      <td>NaN</td>\n",
       "      <td>59</td>\n",
       "      <td>23</td>\n",
       "      <td>5</td>\n",
       "      <td>12</td>\n",
       "      <td>9702</td>\n",
       "      <td>L4D</td>\n",
       "      <td>24</td>\n",
       "      <td>3.0</td>\n",
       "      <td>3.375000</td>\n",
       "    </tr>\n",
       "    <tr>\n",
       "      <th>90565</th>\n",
       "      <td>AK</td>\n",
       "      <td>NaN</td>\n",
       "      <td>0</td>\n",
       "      <td>XXXX</td>\n",
       "      <td>NaN</td>\n",
       "      <td>M</td>\n",
       "      <td>C2</td>\n",
       "      <td>NaN</td>\n",
       "      <td>NaN</td>\n",
       "      <td>988</td>\n",
       "      <td>1025</td>\n",
       "      <td>6</td>\n",
       "      <td>6</td>\n",
       "      <td>433</td>\n",
       "      <td>481</td>\n",
       "      <td>499</td>\n",
       "      <td>535</td>\n",
       "      <td>18807</td>\n",
       "      <td>NaN</td>\n",
       "      <td>14</td>\n",
       "      <td>6</td>\n",
       "      <td>5</td>\n",
       "      <td>12</td>\n",
       "      <td>9702</td>\n",
       "      <td>L1G</td>\n",
       "      <td>1</td>\n",
       "      <td>NaN</td>\n",
       "      <td>25.000000</td>\n",
       "    </tr>\n",
       "    <tr>\n",
       "      <th>90566</th>\n",
       "      <td>TX</td>\n",
       "      <td>NaN</td>\n",
       "      <td>5001</td>\n",
       "      <td>XXXX</td>\n",
       "      <td>NaN</td>\n",
       "      <td>M</td>\n",
       "      <td>C1</td>\n",
       "      <td>7.0</td>\n",
       "      <td>H</td>\n",
       "      <td>1679</td>\n",
       "      <td>1723</td>\n",
       "      <td>3</td>\n",
       "      <td>3</td>\n",
       "      <td>806</td>\n",
       "      <td>836</td>\n",
       "      <td>802</td>\n",
       "      <td>849</td>\n",
       "      <td>26538</td>\n",
       "      <td>NaN</td>\n",
       "      <td>10</td>\n",
       "      <td>4</td>\n",
       "      <td>3</td>\n",
       "      <td>8</td>\n",
       "      <td>9702</td>\n",
       "      <td>L1F</td>\n",
       "      <td>1</td>\n",
       "      <td>NaN</td>\n",
       "      <td>20.000000</td>\n",
       "    </tr>\n",
       "    <tr>\n",
       "      <th>90567</th>\n",
       "      <td>MI</td>\n",
       "      <td>NaN</td>\n",
       "      <td>3801</td>\n",
       "      <td>XXXX</td>\n",
       "      <td>X</td>\n",
       "      <td>M</td>\n",
       "      <td>C3</td>\n",
       "      <td>NaN</td>\n",
       "      <td>NaN</td>\n",
       "      <td>376</td>\n",
       "      <td>377</td>\n",
       "      <td>4</td>\n",
       "      <td>3</td>\n",
       "      <td>263</td>\n",
       "      <td>264</td>\n",
       "      <td>319</td>\n",
       "      <td>345</td>\n",
       "      <td>12178</td>\n",
       "      <td>NaN</td>\n",
       "      <td>33</td>\n",
       "      <td>14</td>\n",
       "      <td>7</td>\n",
       "      <td>17</td>\n",
       "      <td>9702</td>\n",
       "      <td>L3E</td>\n",
       "      <td>7</td>\n",
       "      <td>3.0</td>\n",
       "      <td>8.285714</td>\n",
       "    </tr>\n",
       "    <tr>\n",
       "      <th>90568</th>\n",
       "      <td>NC</td>\n",
       "      <td>NaN</td>\n",
       "      <td>1801</td>\n",
       "      <td>C1CM</td>\n",
       "      <td>NaN</td>\n",
       "      <td>F</td>\n",
       "      <td>C1</td>\n",
       "      <td>5.0</td>\n",
       "      <td>U</td>\n",
       "      <td>938</td>\n",
       "      <td>1049</td>\n",
       "      <td>5</td>\n",
       "      <td>5</td>\n",
       "      <td>451</td>\n",
       "      <td>474</td>\n",
       "      <td>499</td>\n",
       "      <td>519</td>\n",
       "      <td>16699</td>\n",
       "      <td>NaN</td>\n",
       "      <td>139</td>\n",
       "      <td>32</td>\n",
       "      <td>6</td>\n",
       "      <td>35</td>\n",
       "      <td>9702</td>\n",
       "      <td>L1G</td>\n",
       "      <td>39</td>\n",
       "      <td>6.0</td>\n",
       "      <td>96.794872</td>\n",
       "    </tr>\n",
       "  </tbody>\n",
       "</table>\n",
       "<p>90569 rows × 28 columns</p>\n",
       "</div>"
      ],
      "text/plain": [
       "      STATE PVASTATE   DOB MDMAUD RECP3 GENDER DOMAIN  INCOME HOMEOWNR   HV1  \\\n",
       "0        IL      NaN  3712   XXXX   NaN      F     T2     NaN      NaN   479   \n",
       "1        CA      NaN  5202   XXXX   NaN      M     S1     6.0        H  5468   \n",
       "2        NC      NaN     0   XXXX   NaN      M     R2     3.0        U   497   \n",
       "3        CA      NaN  2801   XXXX   NaN      F     R2     1.0        U  1000   \n",
       "4        FL      NaN  2001   XXXX     X      F     S2     3.0        H   576   \n",
       "...     ...      ...   ...    ...   ...    ...    ...     ...      ...   ...   \n",
       "90564    FL      NaN  4803   XXXX   NaN      F     S2     6.0        H   733   \n",
       "90565    AK      NaN     0   XXXX   NaN      M     C2     NaN      NaN   988   \n",
       "90566    TX      NaN  5001   XXXX   NaN      M     C1     7.0        H  1679   \n",
       "90567    MI      NaN  3801   XXXX     X      M     C3     NaN      NaN   376   \n",
       "90568    NC      NaN  1801   C1CM   NaN      F     C1     5.0        U   938   \n",
       "\n",
       "        HV2  HV3  HV4   IC1   IC2   IC3   IC4    IC5 VETERANS  NUMPROM  \\\n",
       "0       635    3    2   307   318   349   378  12883      NaN       74   \n",
       "1      5218   12   10  1088  1096  1026  1037  36175      NaN       32   \n",
       "2       546    2    1   251   292   292   340  11576      NaN       63   \n",
       "3      1263    2    1   386   388   396   423  15130      NaN       66   \n",
       "4       594    4    3   240   250   293   321   9836      NaN      113   \n",
       "...     ...  ...  ...   ...   ...   ...   ...    ...      ...      ...   \n",
       "90564   875    4    3   285   288   333   334  11390      NaN       59   \n",
       "90565  1025    6    6   433   481   499   535  18807      NaN       14   \n",
       "90566  1723    3    3   806   836   802   849  26538      NaN       10   \n",
       "90567   377    4    3   263   264   319   345  12178      NaN       33   \n",
       "90568  1049    5    5   451   474   499   519  16699      NaN      139   \n",
       "\n",
       "       CARDPROM  CARDPM12  NUMPRM12  MAXADATE RFA_2  NGIFTALL  TIMELAG  \\\n",
       "0            27         6        14      9702   L4E        31      4.0   \n",
       "1            12         6        13      9702   L2G         3     18.0   \n",
       "2            26         6        14      9702   L4E        27     12.0   \n",
       "3            27         6        14      9702   L4E        16      9.0   \n",
       "4            43        10        25      9702   L2F        37     14.0   \n",
       "...         ...       ...       ...       ...   ...       ...      ...   \n",
       "90564        23         5        12      9702   L4D        24      3.0   \n",
       "90565         6         5        12      9702   L1G         1      NaN   \n",
       "90566         4         3         8      9702   L1F         1      NaN   \n",
       "90567        14         7        17      9702   L3E         7      3.0   \n",
       "90568        32         6        35      9702   L1G        39      6.0   \n",
       "\n",
       "         AVGGIFT  \n",
       "0       7.741935  \n",
       "1      15.666667  \n",
       "2       7.481481  \n",
       "3       6.812500  \n",
       "4       6.864865  \n",
       "...          ...  \n",
       "90564   3.375000  \n",
       "90565  25.000000  \n",
       "90566  20.000000  \n",
       "90567   8.285714  \n",
       "90568  96.794872  \n",
       "\n",
       "[90569 rows x 28 columns]"
      ]
     },
     "execution_count": 41,
     "metadata": {},
     "output_type": "execute_result"
    }
   ],
   "source": [
    "data"
   ]
  },
  {
   "cell_type": "code",
   "execution_count": 47,
   "metadata": {},
   "outputs": [
    {
     "data": {
      "text/plain": [
       "2.992414623105036"
      ]
     },
     "execution_count": 47,
     "metadata": {},
     "output_type": "execute_result"
    }
   ],
   "source": [
    "data.predicted_income.mean()"
   ]
  },
  {
   "cell_type": "code",
   "execution_count": 48,
   "metadata": {
    "colab": {
     "base_uri": "https://localhost:8080/",
     "height": 224
    },
    "executionInfo": {
     "elapsed": 57188,
     "status": "ok",
     "timestamp": 1618167362303,
     "user": {
      "displayName": "David Henriques",
      "photoUrl": "",
      "userId": "14332050621134291491"
     },
     "user_tz": -60
    },
    "id": "N13jo6qdIpk2",
    "outputId": "8ff93157-c286-454f-a57a-894f008be8d0"
   },
   "outputs": [
    {
     "data": {
      "text/html": [
       "<div>\n",
       "<style scoped>\n",
       "    .dataframe tbody tr th:only-of-type {\n",
       "        vertical-align: middle;\n",
       "    }\n",
       "\n",
       "    .dataframe tbody tr th {\n",
       "        vertical-align: top;\n",
       "    }\n",
       "\n",
       "    .dataframe thead th {\n",
       "        text-align: right;\n",
       "    }\n",
       "</style>\n",
       "<table border=\"1\" class=\"dataframe\">\n",
       "  <thead>\n",
       "    <tr style=\"text-align: right;\">\n",
       "      <th></th>\n",
       "      <th>INCOME</th>\n",
       "      <th>predicted_income</th>\n",
       "      <th>final_income</th>\n",
       "    </tr>\n",
       "  </thead>\n",
       "  <tbody>\n",
       "    <tr>\n",
       "      <th>0</th>\n",
       "      <td>NaN</td>\n",
       "      <td>4.0</td>\n",
       "      <td>4.0</td>\n",
       "    </tr>\n",
       "    <tr>\n",
       "      <th>1</th>\n",
       "      <td>6.0</td>\n",
       "      <td>6.0</td>\n",
       "      <td>6.0</td>\n",
       "    </tr>\n",
       "    <tr>\n",
       "      <th>2</th>\n",
       "      <td>3.0</td>\n",
       "      <td>2.0</td>\n",
       "      <td>3.0</td>\n",
       "    </tr>\n",
       "    <tr>\n",
       "      <th>3</th>\n",
       "      <td>1.0</td>\n",
       "      <td>1.0</td>\n",
       "      <td>1.0</td>\n",
       "    </tr>\n",
       "    <tr>\n",
       "      <th>4</th>\n",
       "      <td>3.0</td>\n",
       "      <td>1.0</td>\n",
       "      <td>3.0</td>\n",
       "    </tr>\n",
       "    <tr>\n",
       "      <th>5</th>\n",
       "      <td>NaN</td>\n",
       "      <td>2.0</td>\n",
       "      <td>2.0</td>\n",
       "    </tr>\n",
       "    <tr>\n",
       "      <th>6</th>\n",
       "      <td>4.0</td>\n",
       "      <td>2.0</td>\n",
       "      <td>4.0</td>\n",
       "    </tr>\n",
       "    <tr>\n",
       "      <th>7</th>\n",
       "      <td>2.0</td>\n",
       "      <td>1.0</td>\n",
       "      <td>2.0</td>\n",
       "    </tr>\n",
       "    <tr>\n",
       "      <th>8</th>\n",
       "      <td>3.0</td>\n",
       "      <td>3.0</td>\n",
       "      <td>3.0</td>\n",
       "    </tr>\n",
       "    <tr>\n",
       "      <th>9</th>\n",
       "      <td>NaN</td>\n",
       "      <td>2.0</td>\n",
       "      <td>2.0</td>\n",
       "    </tr>\n",
       "    <tr>\n",
       "      <th>10</th>\n",
       "      <td>2.0</td>\n",
       "      <td>1.0</td>\n",
       "      <td>2.0</td>\n",
       "    </tr>\n",
       "    <tr>\n",
       "      <th>11</th>\n",
       "      <td>1.0</td>\n",
       "      <td>1.0</td>\n",
       "      <td>1.0</td>\n",
       "    </tr>\n",
       "    <tr>\n",
       "      <th>12</th>\n",
       "      <td>4.0</td>\n",
       "      <td>1.0</td>\n",
       "      <td>4.0</td>\n",
       "    </tr>\n",
       "    <tr>\n",
       "      <th>13</th>\n",
       "      <td>NaN</td>\n",
       "      <td>2.0</td>\n",
       "      <td>2.0</td>\n",
       "    </tr>\n",
       "    <tr>\n",
       "      <th>14</th>\n",
       "      <td>4.0</td>\n",
       "      <td>2.0</td>\n",
       "      <td>4.0</td>\n",
       "    </tr>\n",
       "    <tr>\n",
       "      <th>15</th>\n",
       "      <td>1.0</td>\n",
       "      <td>1.0</td>\n",
       "      <td>1.0</td>\n",
       "    </tr>\n",
       "    <tr>\n",
       "      <th>16</th>\n",
       "      <td>1.0</td>\n",
       "      <td>1.0</td>\n",
       "      <td>1.0</td>\n",
       "    </tr>\n",
       "    <tr>\n",
       "      <th>17</th>\n",
       "      <td>7.0</td>\n",
       "      <td>4.0</td>\n",
       "      <td>7.0</td>\n",
       "    </tr>\n",
       "    <tr>\n",
       "      <th>18</th>\n",
       "      <td>4.0</td>\n",
       "      <td>1.0</td>\n",
       "      <td>4.0</td>\n",
       "    </tr>\n",
       "    <tr>\n",
       "      <th>19</th>\n",
       "      <td>NaN</td>\n",
       "      <td>1.0</td>\n",
       "      <td>1.0</td>\n",
       "    </tr>\n",
       "    <tr>\n",
       "      <th>20</th>\n",
       "      <td>2.0</td>\n",
       "      <td>2.0</td>\n",
       "      <td>2.0</td>\n",
       "    </tr>\n",
       "    <tr>\n",
       "      <th>21</th>\n",
       "      <td>NaN</td>\n",
       "      <td>1.0</td>\n",
       "      <td>1.0</td>\n",
       "    </tr>\n",
       "    <tr>\n",
       "      <th>22</th>\n",
       "      <td>NaN</td>\n",
       "      <td>5.0</td>\n",
       "      <td>5.0</td>\n",
       "    </tr>\n",
       "    <tr>\n",
       "      <th>23</th>\n",
       "      <td>7.0</td>\n",
       "      <td>7.0</td>\n",
       "      <td>7.0</td>\n",
       "    </tr>\n",
       "    <tr>\n",
       "      <th>24</th>\n",
       "      <td>7.0</td>\n",
       "      <td>4.0</td>\n",
       "      <td>7.0</td>\n",
       "    </tr>\n",
       "  </tbody>\n",
       "</table>\n",
       "</div>"
      ],
      "text/plain": [
       "    INCOME  predicted_income  final_income\n",
       "0      NaN               4.0           4.0\n",
       "1      6.0               6.0           6.0\n",
       "2      3.0               2.0           3.0\n",
       "3      1.0               1.0           1.0\n",
       "4      3.0               1.0           3.0\n",
       "5      NaN               2.0           2.0\n",
       "6      4.0               2.0           4.0\n",
       "7      2.0               1.0           2.0\n",
       "8      3.0               3.0           3.0\n",
       "9      NaN               2.0           2.0\n",
       "10     2.0               1.0           2.0\n",
       "11     1.0               1.0           1.0\n",
       "12     4.0               1.0           4.0\n",
       "13     NaN               2.0           2.0\n",
       "14     4.0               2.0           4.0\n",
       "15     1.0               1.0           1.0\n",
       "16     1.0               1.0           1.0\n",
       "17     7.0               4.0           7.0\n",
       "18     4.0               1.0           4.0\n",
       "19     NaN               1.0           1.0\n",
       "20     2.0               2.0           2.0\n",
       "21     NaN               1.0           1.0\n",
       "22     NaN               5.0           5.0\n",
       "23     7.0               7.0           7.0\n",
       "24     7.0               4.0           7.0"
      ]
     },
     "execution_count": 48,
     "metadata": {},
     "output_type": "execute_result"
    }
   ],
   "source": [
    "data['final_income'] = np.where(data['INCOME'].isna(), data['predicted_income'], data['INCOME'])\n",
    "data[['INCOME','predicted_income','final_income']].head(25)"
   ]
  },
  {
   "cell_type": "code",
   "execution_count": 49,
   "metadata": {},
   "outputs": [
    {
     "data": {
      "text/plain": [
       "3.6379997570912783"
      ]
     },
     "execution_count": 49,
     "metadata": {},
     "output_type": "execute_result"
    }
   ],
   "source": [
    "data['final_income'].mean()"
   ]
  },
  {
   "cell_type": "code",
   "execution_count": 50,
   "metadata": {
    "colab": {
     "base_uri": "https://localhost:8080/",
     "height": 282
    },
    "executionInfo": {
     "elapsed": 56701,
     "status": "ok",
     "timestamp": 1618167362304,
     "user": {
      "displayName": "David Henriques",
      "photoUrl": "",
      "userId": "14332050621134291491"
     },
     "user_tz": -60
    },
    "id": "f0APzuzNM2PS",
    "outputId": "2d515469-d64b-4a0a-a690-dc9466a1aca5"
   },
   "outputs": [
    {
     "data": {
      "text/plain": [
       "<AxesSubplot:>"
      ]
     },
     "execution_count": 50,
     "metadata": {},
     "output_type": "execute_result"
    },
    {
     "data": {
      "image/png": "[encoded data removed]",
      "text/plain": [
       "<Figure size 640x480 with 1 Axes>"
      ]
     },
     "metadata": {},
     "output_type": "display_data"
    }
   ],
   "source": [
    "#now with same distribution as before!\n",
    "data['INCOME'].hist(bins=7)"
   ]
  },
  {
   "cell_type": "code",
   "execution_count": 51,
   "metadata": {},
   "outputs": [
    {
     "data": {
      "text/plain": [
       "<AxesSubplot:>"
      ]
     },
     "execution_count": 51,
     "metadata": {},
     "output_type": "execute_result"
    },
    {
     "data": {
      "image/png": "[encoded data removed]",
      "text/plain": [
       "<Figure size 640x480 with 1 Axes>"
      ]
     },
     "metadata": {},
     "output_type": "display_data"
    }
   ],
   "source": [
    "data['final_income'].hist(bins=7)"
   ]
  },
  {
   "cell_type": "code",
   "execution_count": 52,
   "metadata": {},
   "outputs": [
    {
     "data": {
      "text/plain": [
       "3.6379997570912783"
      ]
     },
     "metadata": {},
     "output_type": "display_data"
    },
    {
     "data": {
      "text/plain": [
       "3.8782570397522234"
      ]
     },
     "metadata": {},
     "output_type": "display_data"
    }
   ],
   "source": [
    "display(data['final_income'].mean())\n",
    "display(data['INCOME'].mean())"
   ]
  },
  {
   "cell_type": "code",
   "execution_count": 53,
   "metadata": {},
   "outputs": [
    {
     "data": {
      "text/plain": [
       "2.0    18040\n",
       "5.0    17076\n",
       "4.0    14677\n",
       "1.0    14437\n",
       "3.0    10318\n",
       "6.0     8216\n",
       "7.0     7805\n",
       "Name: final_income, dtype: int64"
      ]
     },
     "execution_count": 53,
     "metadata": {},
     "output_type": "execute_result"
    }
   ],
   "source": [
    "data.final_income.value_counts(dropna=False)"
   ]
  },
  {
   "cell_type": "code",
   "execution_count": 54,
   "metadata": {
    "colab": {
     "base_uri": "https://localhost:8080/",
     "height": 224
    },
    "executionInfo": {
     "elapsed": 56822,
     "status": "ok",
     "timestamp": 1618167362912,
     "user": {
      "displayName": "David Henriques",
      "photoUrl": "",
      "userId": "14332050621134291491"
     },
     "user_tz": -60
    },
    "id": "swsjiXlGM9fy",
    "outputId": "fd2e3bf1-d074-432a-d228-09c5e89d8198"
   },
   "outputs": [
    {
     "data": {
      "text/html": [
       "<div>\n",
       "<style scoped>\n",
       "    .dataframe tbody tr th:only-of-type {\n",
       "        vertical-align: middle;\n",
       "    }\n",
       "\n",
       "    .dataframe tbody tr th {\n",
       "        vertical-align: top;\n",
       "    }\n",
       "\n",
       "    .dataframe thead th {\n",
       "        text-align: right;\n",
       "    }\n",
       "</style>\n",
       "<table border=\"1\" class=\"dataframe\">\n",
       "  <thead>\n",
       "    <tr style=\"text-align: right;\">\n",
       "      <th></th>\n",
       "      <th>STATE</th>\n",
       "      <th>PVASTATE</th>\n",
       "      <th>DOB</th>\n",
       "      <th>MDMAUD</th>\n",
       "      <th>RECP3</th>\n",
       "      <th>GENDER</th>\n",
       "      <th>DOMAIN</th>\n",
       "      <th>HOMEOWNR</th>\n",
       "      <th>HV1</th>\n",
       "      <th>HV2</th>\n",
       "      <th>HV3</th>\n",
       "      <th>HV4</th>\n",
       "      <th>IC1</th>\n",
       "      <th>IC2</th>\n",
       "      <th>IC3</th>\n",
       "      <th>IC4</th>\n",
       "      <th>IC5</th>\n",
       "      <th>VETERANS</th>\n",
       "      <th>NUMPROM</th>\n",
       "      <th>CARDPROM</th>\n",
       "      <th>CARDPM12</th>\n",
       "      <th>NUMPRM12</th>\n",
       "      <th>MAXADATE</th>\n",
       "      <th>RFA_2</th>\n",
       "      <th>NGIFTALL</th>\n",
       "      <th>TIMELAG</th>\n",
       "      <th>AVGGIFT</th>\n",
       "      <th>final_income</th>\n",
       "    </tr>\n",
       "  </thead>\n",
       "  <tbody>\n",
       "    <tr>\n",
       "      <th>0</th>\n",
       "      <td>IL</td>\n",
       "      <td>NaN</td>\n",
       "      <td>3712</td>\n",
       "      <td>XXXX</td>\n",
       "      <td>NaN</td>\n",
       "      <td>F</td>\n",
       "      <td>T2</td>\n",
       "      <td>NaN</td>\n",
       "      <td>479</td>\n",
       "      <td>635</td>\n",
       "      <td>3</td>\n",
       "      <td>2</td>\n",
       "      <td>307</td>\n",
       "      <td>318</td>\n",
       "      <td>349</td>\n",
       "      <td>378</td>\n",
       "      <td>12883</td>\n",
       "      <td>NaN</td>\n",
       "      <td>74</td>\n",
       "      <td>27</td>\n",
       "      <td>6</td>\n",
       "      <td>14</td>\n",
       "      <td>9702</td>\n",
       "      <td>L4E</td>\n",
       "      <td>31</td>\n",
       "      <td>4.0</td>\n",
       "      <td>7.741935</td>\n",
       "      <td>4.0</td>\n",
       "    </tr>\n",
       "    <tr>\n",
       "      <th>1</th>\n",
       "      <td>CA</td>\n",
       "      <td>NaN</td>\n",
       "      <td>5202</td>\n",
       "      <td>XXXX</td>\n",
       "      <td>NaN</td>\n",
       "      <td>M</td>\n",
       "      <td>S1</td>\n",
       "      <td>H</td>\n",
       "      <td>5468</td>\n",
       "      <td>5218</td>\n",
       "      <td>12</td>\n",
       "      <td>10</td>\n",
       "      <td>1088</td>\n",
       "      <td>1096</td>\n",
       "      <td>1026</td>\n",
       "      <td>1037</td>\n",
       "      <td>36175</td>\n",
       "      <td>NaN</td>\n",
       "      <td>32</td>\n",
       "      <td>12</td>\n",
       "      <td>6</td>\n",
       "      <td>13</td>\n",
       "      <td>9702</td>\n",
       "      <td>L2G</td>\n",
       "      <td>3</td>\n",
       "      <td>18.0</td>\n",
       "      <td>15.666667</td>\n",
       "      <td>6.0</td>\n",
       "    </tr>\n",
       "    <tr>\n",
       "      <th>2</th>\n",
       "      <td>NC</td>\n",
       "      <td>NaN</td>\n",
       "      <td>0</td>\n",
       "      <td>XXXX</td>\n",
       "      <td>NaN</td>\n",
       "      <td>M</td>\n",
       "      <td>R2</td>\n",
       "      <td>U</td>\n",
       "      <td>497</td>\n",
       "      <td>546</td>\n",
       "      <td>2</td>\n",
       "      <td>1</td>\n",
       "      <td>251</td>\n",
       "      <td>292</td>\n",
       "      <td>292</td>\n",
       "      <td>340</td>\n",
       "      <td>11576</td>\n",
       "      <td>NaN</td>\n",
       "      <td>63</td>\n",
       "      <td>26</td>\n",
       "      <td>6</td>\n",
       "      <td>14</td>\n",
       "      <td>9702</td>\n",
       "      <td>L4E</td>\n",
       "      <td>27</td>\n",
       "      <td>12.0</td>\n",
       "      <td>7.481481</td>\n",
       "      <td>3.0</td>\n",
       "    </tr>\n",
       "    <tr>\n",
       "      <th>3</th>\n",
       "      <td>CA</td>\n",
       "      <td>NaN</td>\n",
       "      <td>2801</td>\n",
       "      <td>XXXX</td>\n",
       "      <td>NaN</td>\n",
       "      <td>F</td>\n",
       "      <td>R2</td>\n",
       "      <td>U</td>\n",
       "      <td>1000</td>\n",
       "      <td>1263</td>\n",
       "      <td>2</td>\n",
       "      <td>1</td>\n",
       "      <td>386</td>\n",
       "      <td>388</td>\n",
       "      <td>396</td>\n",
       "      <td>423</td>\n",
       "      <td>15130</td>\n",
       "      <td>NaN</td>\n",
       "      <td>66</td>\n",
       "      <td>27</td>\n",
       "      <td>6</td>\n",
       "      <td>14</td>\n",
       "      <td>9702</td>\n",
       "      <td>L4E</td>\n",
       "      <td>16</td>\n",
       "      <td>9.0</td>\n",
       "      <td>6.812500</td>\n",
       "      <td>1.0</td>\n",
       "    </tr>\n",
       "    <tr>\n",
       "      <th>4</th>\n",
       "      <td>FL</td>\n",
       "      <td>NaN</td>\n",
       "      <td>2001</td>\n",
       "      <td>XXXX</td>\n",
       "      <td>X</td>\n",
       "      <td>F</td>\n",
       "      <td>S2</td>\n",
       "      <td>H</td>\n",
       "      <td>576</td>\n",
       "      <td>594</td>\n",
       "      <td>4</td>\n",
       "      <td>3</td>\n",
       "      <td>240</td>\n",
       "      <td>250</td>\n",
       "      <td>293</td>\n",
       "      <td>321</td>\n",
       "      <td>9836</td>\n",
       "      <td>NaN</td>\n",
       "      <td>113</td>\n",
       "      <td>43</td>\n",
       "      <td>10</td>\n",
       "      <td>25</td>\n",
       "      <td>9702</td>\n",
       "      <td>L2F</td>\n",
       "      <td>37</td>\n",
       "      <td>14.0</td>\n",
       "      <td>6.864865</td>\n",
       "      <td>3.0</td>\n",
       "    </tr>\n",
       "  </tbody>\n",
       "</table>\n",
       "</div>"
      ],
      "text/plain": [
       "  STATE PVASTATE   DOB MDMAUD RECP3 GENDER DOMAIN HOMEOWNR   HV1   HV2  HV3  \\\n",
       "0    IL      NaN  3712   XXXX   NaN      F     T2      NaN   479   635    3   \n",
       "1    CA      NaN  5202   XXXX   NaN      M     S1        H  5468  5218   12   \n",
       "2    NC      NaN     0   XXXX   NaN      M     R2        U   497   546    2   \n",
       "3    CA      NaN  2801   XXXX   NaN      F     R2        U  1000  1263    2   \n",
       "4    FL      NaN  2001   XXXX     X      F     S2        H   576   594    4   \n",
       "\n",
       "   HV4   IC1   IC2   IC3   IC4    IC5 VETERANS  NUMPROM  CARDPROM  CARDPM12  \\\n",
       "0    2   307   318   349   378  12883      NaN       74        27         6   \n",
       "1   10  1088  1096  1026  1037  36175      NaN       32        12         6   \n",
       "2    1   251   292   292   340  11576      NaN       63        26         6   \n",
       "3    1   386   388   396   423  15130      NaN       66        27         6   \n",
       "4    3   240   250   293   321   9836      NaN      113        43        10   \n",
       "\n",
       "   NUMPRM12  MAXADATE RFA_2  NGIFTALL  TIMELAG    AVGGIFT  final_income  \n",
       "0        14      9702   L4E        31      4.0   7.741935           4.0  \n",
       "1        13      9702   L2G         3     18.0  15.666667           6.0  \n",
       "2        14      9702   L4E        27     12.0   7.481481           3.0  \n",
       "3        14      9702   L4E        16      9.0   6.812500           1.0  \n",
       "4        25      9702   L2F        37     14.0   6.864865           3.0  "
      ]
     },
     "execution_count": 54,
     "metadata": {},
     "output_type": "execute_result"
    }
   ],
   "source": [
    "data.drop(['INCOME','predicted_income'],axis=1,inplace=True)\n",
    "data.head()"
   ]
  },
  {
   "cell_type": "code",
   "execution_count": 55,
   "metadata": {},
   "outputs": [
    {
     "data": {
      "text/plain": [
       "90569"
      ]
     },
     "execution_count": 55,
     "metadata": {},
     "output_type": "execute_result"
    }
   ],
   "source": [
    "len(data)"
   ]
  },
  {
   "cell_type": "code",
   "execution_count": 43,
   "metadata": {
    "executionInfo": {
     "elapsed": 56271,
     "status": "ok",
     "timestamp": 1618167362913,
     "user": {
      "displayName": "David Henriques",
      "photoUrl": "",
      "userId": "14332050621134291491"
     },
     "user_tz": -60
    },
    "id": "MnSy0xtRMYb_"
   },
   "outputs": [],
   "source": [
    "### Now the timelag problem. Activity 2: could you do the same here?"
   ]
  },
  {
   "cell_type": "code",
   "execution_count": 56,
   "metadata": {
    "colab": {
     "base_uri": "https://localhost:8080/"
    },
    "executionInfo": {
     "elapsed": 55612,
     "status": "ok",
     "timestamp": 1618167362913,
     "user": {
      "displayName": "David Henriques",
      "photoUrl": "",
      "userId": "14332050621134291491"
     },
     "user_tz": -60
    },
    "id": "Xs9aem3NNrCL",
    "outputId": "61290169-a37d-4822-e614-47396c8ace86"
   },
   "outputs": [
    {
     "data": {
      "text/plain": [
       "67"
      ]
     },
     "execution_count": 56,
     "metadata": {},
     "output_type": "execute_result"
    }
   ],
   "source": [
    "data['TIMELAG'].nunique()"
   ]
  },
  {
   "cell_type": "code",
   "execution_count": 58,
   "metadata": {},
   "outputs": [
    {
     "data": {
      "text/plain": [
       "NaN    9653\n",
       "5.0    8106\n",
       "4.0    8042\n",
       "3.0    7995\n",
       "6.0    6257\n",
       "2.0    5900\n",
       "7.0    5532\n",
       "8.0    4998\n",
       "9.0    4240\n",
       "1.0    3717\n",
       "Name: TIMELAG, dtype: int64"
      ]
     },
     "execution_count": 58,
     "metadata": {},
     "output_type": "execute_result"
    }
   ],
   "source": [
    "data['TIMELAG'].value_counts(dropna=False).head(10)"
   ]
  },
  {
   "cell_type": "code",
   "execution_count": 60,
   "metadata": {
    "colab": {
     "base_uri": "https://localhost:8080/",
     "height": 500
    },
    "executionInfo": {
     "elapsed": 55028,
     "status": "ok",
     "timestamp": 1618167362914,
     "user": {
      "displayName": "David Henriques",
      "photoUrl": "",
      "userId": "14332050621134291491"
     },
     "user_tz": -60
    },
    "id": "LDf-2WifNnPa",
    "outputId": "677e41b2-2504-4aac-dfd9-7fc4ac17fd11"
   },
   "outputs": [
    {
     "data": {
      "image/png": "[encoded data removed]",
      "text/plain": [
       "<Figure size 640x480 with 1 Axes>"
      ]
     },
     "metadata": {},
     "output_type": "display_data"
    },
    {
     "data": {
      "image/png": "[encoded data removed]",
      "text/plain": [
       "<Figure size 640x480 with 1 Axes>"
      ]
     },
     "metadata": {},
     "output_type": "display_data"
    }
   ],
   "source": [
    "#ooof ... HEAVYYYYYY skew\n",
    "data['TIMELAG'].hist(bins=100)\n",
    "plt.show()\n",
    "\n",
    "sns.boxplot(y=data['TIMELAG'])\n",
    "plt.show()"
   ]
  },
  {
   "cell_type": "code",
   "execution_count": 61,
   "metadata": {
    "executionInfo": {
     "elapsed": 54159,
     "status": "ok",
     "timestamp": 1618167362914,
     "user": {
      "displayName": "David Henriques",
      "photoUrl": "",
      "userId": "14332050621134291491"
     },
     "user_tz": -60
    },
    "id": "fAOuadK6NnmJ"
   },
   "outputs": [],
   "source": [
    "def log_transfom_clean(x):\n",
    "    if x>0:\n",
    "        return np.log(x)\n",
    "    else:\n",
    "        return np.NAN # We are returning NaNs so that we can replace them later"
   ]
  },
  {
   "cell_type": "code",
   "execution_count": 62,
   "metadata": {
    "colab": {
     "base_uri": "https://localhost:8080/",
     "height": 266
    },
    "executionInfo": {
     "elapsed": 54099,
     "status": "ok",
     "timestamp": 1618167363407,
     "user": {
      "displayName": "David Henriques",
      "photoUrl": "",
      "userId": "14332050621134291491"
     },
     "user_tz": -60
    },
    "id": "kdNrlrtwORpn",
    "outputId": "f40923bf-fdb3-4638-ef5d-15bc5d7c118c"
   },
   "outputs": [
    {
     "data": {
      "image/png": "[encoded data removed]",
      "text/plain": [
       "<Figure size 640x480 with 1 Axes>"
      ]
     },
     "metadata": {},
     "output_type": "display_data"
    }
   ],
   "source": [
    "pd.Series(data['TIMELAG'].apply(log_transfom_clean)).hist()\n",
    "plt.show()"
   ]
  },
  {
   "cell_type": "code",
   "execution_count": 63,
   "metadata": {},
   "outputs": [
    {
     "data": {
      "text/plain": [
       "6.0"
      ]
     },
     "execution_count": 63,
     "metadata": {},
     "output_type": "execute_result"
    }
   ],
   "source": [
    "data['TIMELAG'].median()"
   ]
  },
  {
   "cell_type": "code",
   "execution_count": null,
   "metadata": {},
   "outputs": [],
   "source": []
  },
  {
   "cell_type": "code",
   "execution_count": 64,
   "metadata": {
    "colab": {
     "base_uri": "https://localhost:8080/",
     "height": 265
    },
    "executionInfo": {
     "elapsed": 54149,
     "status": "ok",
     "timestamp": 1618167364020,
     "user": {
      "displayName": "David Henriques",
      "photoUrl": "",
      "userId": "14332050621134291491"
     },
     "user_tz": -60
    },
    "id": "qTqRyHh5OZ7q",
    "outputId": "dd8fed43-29e1-4f15-ae80-f0b519d8e244"
   },
   "outputs": [
    {
     "data": {
      "image/png": "[encoded data removed]",
      "text/plain": [
       "<Figure size 640x480 with 1 Axes>"
      ]
     },
     "metadata": {},
     "output_type": "display_data"
    }
   ],
   "source": [
    "data['TIMELAG_transformed'] = data['TIMELAG'].apply(log_transfom_clean)\n",
    "data['TIMELAG_transformed'] = data['TIMELAG_transformed'].fillna(np.mean(data['TIMELAG_transformed']))\n",
    "data['TIMELAG_transformed'].hist()\n",
    "plt.show()"
   ]
  },
  {
   "cell_type": "code",
   "execution_count": 65,
   "metadata": {},
   "outputs": [
    {
     "data": {
      "text/plain": [
       "1.826874109104067"
      ]
     },
     "execution_count": 65,
     "metadata": {},
     "output_type": "execute_result"
    }
   ],
   "source": [
    "data['TIMELAG_transformed'].mean()\n",
    "#np.e**data['TIMELAG_transformed'].mean()\n",
    "\n",
    "\n"
   ]
  },
  {
   "cell_type": "code",
   "execution_count": 52,
   "metadata": {
    "executionInfo": {
     "elapsed": 53388,
     "status": "ok",
     "timestamp": 1618167364021,
     "user": {
      "displayName": "David Henriques",
      "photoUrl": "",
      "userId": "14332050621134291491"
     },
     "user_tz": -60
    },
    "id": "stXZhfnzPOyf"
   },
   "outputs": [],
   "source": [
    "# WORD OF WARNING ON ACTIVITY 3\n",
    "# just like with boxplots, logarithmic transforms and scales are NOT for the final user\n",
    "# if you have a quantity that you need to express that would require a log transform you're better off binning the data"
   ]
  },
  {
   "cell_type": "code",
   "execution_count": 66,
   "metadata": {
    "scrolled": true
   },
   "outputs": [
    {
     "data": {
      "text/plain": [
       "1.826874    10507\n",
       "1.609438     8106\n",
       "1.386294     8042\n",
       "1.098612     7995\n",
       "1.791759     6257\n",
       "            ...  \n",
       "4.110874        1\n",
       "4.007333        1\n",
       "4.060443        1\n",
       "4.127134        1\n",
       "6.992096        1\n",
       "Name: TIMELAG_transformed, Length: 67, dtype: int64"
      ]
     },
     "execution_count": 66,
     "metadata": {},
     "output_type": "execute_result"
    }
   ],
   "source": [
    "data['TIMELAG_transformed'].value_counts(dropna=False)"
   ]
  },
  {
   "cell_type": "code",
   "execution_count": 54,
   "metadata": {},
   "outputs": [
    {
     "data": {
      "text/plain": [
       "11.0"
      ]
     },
     "execution_count": 54,
     "metadata": {},
     "output_type": "execute_result"
    }
   ],
   "source": [
    "np.nanpercentile(data['TIMELAG'],75)  # ignore the NaNs and give the value"
   ]
  },
  {
   "cell_type": "code",
   "execution_count": 67,
   "metadata": {
    "colab": {
     "base_uri": "https://localhost:8080/"
    },
    "executionInfo": {
     "elapsed": 52837,
     "status": "ok",
     "timestamp": 1618167364022,
     "user": {
      "displayName": "David Henriques",
      "photoUrl": "",
      "userId": "14332050621134291491"
     },
     "user_tz": -60
    },
    "id": "ehAm2hH5QaRs",
    "outputId": "0ef8ffff-94e7-4224-b0ed-a231db1f8ad0"
   },
   "outputs": [
    {
     "name": "stdout",
     "output_type": "stream",
     "text": [
      "21.5\n"
     ]
    },
    {
     "data": {
      "text/plain": [
       "3"
      ]
     },
     "execution_count": 67,
     "metadata": {},
     "output_type": "execute_result"
    }
   ],
   "source": [
    "# Checking how many values will be removed if the outliers are removed\n",
    "iqr = np.nanpercentile(data['TIMELAG'],75) - np.nanpercentile(data['TIMELAG'],25)\n",
    "upper_limit = np.nanpercentile(data['TIMELAG'],75) + 1.5*iqr\n",
    "print(upper_limit)\n",
    "\n",
    "extraordinary_points = data[data['TIMELAG'] >200]\n",
    "len(extraordinary_points)  # This checks the number of points that will be removed"
   ]
  },
  {
   "cell_type": "code",
   "execution_count": 56,
   "metadata": {
    "executionInfo": {
     "elapsed": 52354,
     "status": "ok",
     "timestamp": 1618167364022,
     "user": {
      "displayName": "David Henriques",
      "photoUrl": "",
      "userId": "14332050621134291491"
     },
     "user_tz": -60
    },
    "id": "pqG-ioL_Q3iE"
   },
   "outputs": [],
   "source": [
    "# If we wanted to drop the rows that are above upper_limit\n",
    "data_timelagNaN_dropped = data[data['TIMELAG'] <= upper_limit].copy()\n",
    "# however, using <= also removes the rows for which TIMELAG is NaN, se we would need to fillna first."
   ]
  },
  {
   "cell_type": "code",
   "execution_count": 57,
   "metadata": {},
   "outputs": [
    {
     "data": {
      "text/plain": [
       "77183"
      ]
     },
     "execution_count": 57,
     "metadata": {},
     "output_type": "execute_result"
    }
   ],
   "source": [
    "len(data_timelagNaN_dropped)"
   ]
  },
  {
   "cell_type": "code",
   "execution_count": 58,
   "metadata": {
    "colab": {
     "base_uri": "https://localhost:8080/",
     "height": 284
    },
    "executionInfo": {
     "elapsed": 52381,
     "status": "ok",
     "timestamp": 1618167364508,
     "user": {
      "displayName": "David Henriques",
      "photoUrl": "",
      "userId": "14332050621134291491"
     },
     "user_tz": -60
    },
    "id": "Zl15GDssRJul",
    "outputId": "137a1997-8ead-40c3-9978-e18da44cc211"
   },
   "outputs": [
    {
     "data": {
      "text/plain": [
       "<AxesSubplot:>"
      ]
     },
     "execution_count": 58,
     "metadata": {},
     "output_type": "execute_result"
    },
    {
     "data": {
      "image/png": "[encoded data removed]",
      "text/plain": [
       "<Figure size 640x480 with 1 Axes>"
      ]
     },
     "metadata": {},
     "output_type": "display_data"
    }
   ],
   "source": [
    "data['TIMELAG_transformed'].hist()"
   ]
  },
  {
   "cell_type": "code",
   "execution_count": 59,
   "metadata": {
    "id": "lTMt7O4kRZT3"
   },
   "outputs": [],
   "source": [
    "# save intermediate results"
   ]
  },
  {
   "cell_type": "code",
   "execution_count": 60,
   "metadata": {},
   "outputs": [],
   "source": [
    "#data.to_csv('HC4A_unit4_ver1.csv', index=False)"
   ]
  },
  {
   "cell_type": "code",
   "execution_count": 61,
   "metadata": {},
   "outputs": [
    {
     "data": {
      "text/plain": [
       "3.912023005428146"
      ]
     },
     "execution_count": 61,
     "metadata": {},
     "output_type": "execute_result"
    }
   ],
   "source": [
    "np.log(50)"
   ]
  },
  {
   "cell_type": "code",
   "execution_count": 62,
   "metadata": {},
   "outputs": [],
   "source": [
    "data_timelag_dropped = data[data['TIMELAG_transformed'] <= np.log(50)].copy()"
   ]
  },
  {
   "cell_type": "code",
   "execution_count": 63,
   "metadata": {},
   "outputs": [
    {
     "data": {
      "text/plain": [
       "90547"
      ]
     },
     "execution_count": 63,
     "metadata": {},
     "output_type": "execute_result"
    }
   ],
   "source": [
    "len(data_timelag_dropped)"
   ]
  },
  {
   "cell_type": "code",
   "execution_count": null,
   "metadata": {},
   "outputs": [],
   "source": []
  }
 ],
 "metadata": {
  "colab": {
   "collapsed_sections": [],
   "name": "lesson_4.01b.ipynb",
   "provenance": []
  },
  "kernelspec": {
   "display_name": "Python 3 (ipykernel)",
   "language": "python",
   "name": "python3"
  },
  "language_info": {
   "codemirror_mode": {
    "name": "ipython",
    "version": 3
   },
   "file_extension": ".py",
   "mimetype": "text/x-python",
   "name": "python",
   "nbconvert_exporter": "python",
   "pygments_lexer": "ipython3",
   "version": "3.9.13"
  }
 },
 "nbformat": 4,
 "nbformat_minor": 1
}
